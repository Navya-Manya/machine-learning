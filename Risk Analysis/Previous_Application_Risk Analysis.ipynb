{
 "cells": [
  {
   "cell_type": "markdown",
   "metadata": {},
   "source": [
    "The Analysis is divided into 4 main parts:\n",
    "1. Data understanding\n",
    "2. Data cleaning (cleaning missing values, removing redundant columns etc.)\n",
    "3. Data Analysis\n",
    "4. Recommendations/Conclusions"
   ]
  },
  {
   "cell_type": "markdown",
   "metadata": {},
   "source": [
    "## Importring Necessary Libraries"
   ]
  },
  {
   "cell_type": "code",
   "execution_count": 140,
   "metadata": {},
   "outputs": [],
   "source": [
    "import pandas as pd\n",
    "import numpy as np\n",
    "import matplotlib.pyplot as plt\n",
    "import seaborn as sns"
   ]
  },
  {
   "cell_type": "markdown",
   "metadata": {},
   "source": [
    "#  1. Read Data"
   ]
  },
  {
   "cell_type": "markdown",
   "metadata": {},
   "source": [
    "### There are two datasets on which the analysis has to be carried out and are\n",
    "1. application_data\n",
    "2. previous_application\n",
    "\n",
    "In this file Previous Application data will be analysed.\n",
    "2. 'previous_application.csv' contains information about the client’s previous loan data. It contains the data whether the previous application had been Approved, Cancelled, Refused or Unused offer."
   ]
  },
  {
   "cell_type": "code",
   "execution_count": 141,
   "metadata": {},
   "outputs": [
    {
     "name": "stdout",
     "output_type": "stream",
     "text": [
      "   SK_ID_PREV  SK_ID_CURR NAME_CONTRACT_TYPE  AMT_ANNUITY  AMT_APPLICATION  \\\n",
      "0     2030495      271877     Consumer loans      1730.43         17145.00   \n",
      "1     2802425      108129         Cash loans     25188.62        607500.00   \n",
      "2     2523466      122040         Cash loans     15060.74        112500.00   \n",
      "3     2819243      176158         Cash loans     47041.33        450000.00   \n",
      "4     1784265      202054         Cash loans     31924.40        337500.00   \n",
      "\n",
      "   AMT_CREDIT  AMT_DOWN_PAYMENT  AMT_GOODS_PRICE WEEKDAY_APPR_PROCESS_START  \\\n",
      "0    17145.00              0.00         17145.00                   SATURDAY   \n",
      "1   679671.00               nan        607500.00                   THURSDAY   \n",
      "2   136444.50               nan        112500.00                    TUESDAY   \n",
      "3   470790.00               nan        450000.00                     MONDAY   \n",
      "4   404055.00               nan        337500.00                   THURSDAY   \n",
      "\n",
      "   HOUR_APPR_PROCESS_START  ... NAME_SELLER_INDUSTRY  CNT_PAYMENT  \\\n",
      "0                       15  ...         Connectivity        12.00   \n",
      "1                       11  ...                  XNA        36.00   \n",
      "2                       11  ...                  XNA        12.00   \n",
      "3                        7  ...                  XNA        12.00   \n",
      "4                        9  ...                  XNA        24.00   \n",
      "\n",
      "   NAME_YIELD_GROUP       PRODUCT_COMBINATION  DAYS_FIRST_DRAWING  \\\n",
      "0            middle  POS mobile with interest           365243.00   \n",
      "1        low_action          Cash X-Sell: low           365243.00   \n",
      "2              high         Cash X-Sell: high           365243.00   \n",
      "3            middle       Cash X-Sell: middle           365243.00   \n",
      "4              high         Cash Street: high                 nan   \n",
      "\n",
      "  DAYS_FIRST_DUE DAYS_LAST_DUE_1ST_VERSION  DAYS_LAST_DUE DAYS_TERMINATION  \\\n",
      "0         -42.00                    300.00         -42.00           -37.00   \n",
      "1        -134.00                    916.00      365243.00        365243.00   \n",
      "2        -271.00                     59.00      365243.00        365243.00   \n",
      "3        -482.00                   -152.00        -182.00          -177.00   \n",
      "4            nan                       nan            nan              nan   \n",
      "\n",
      "  NFLAG_INSURED_ON_APPROVAL  \n",
      "0                      0.00  \n",
      "1                      1.00  \n",
      "2                      1.00  \n",
      "3                      1.00  \n",
      "4                       nan  \n",
      "\n",
      "[5 rows x 37 columns]\n"
     ]
    }
   ],
   "source": [
    "previous_application = pd.read_csv(\"C:\\\\Users\\\\Maheshwar\\\\Desktop\\\\IIT-B\\\\Case Study\\\\previous_application.csv\")\n",
    "print(previous_application.head(5))"
   ]
  },
  {
   "cell_type": "markdown",
   "metadata": {},
   "source": [
    "## Data Understanding"
   ]
  },
  {
   "cell_type": "code",
   "execution_count": 142,
   "metadata": {},
   "outputs": [
    {
     "name": "stdout",
     "output_type": "stream",
     "text": [
      "         SK_ID_PREV  SK_ID_CURR NAME_CONTRACT_TYPE  AMT_ANNUITY  \\\n",
      "1670209     2300464      352015     Consumer loans     14704.29   \n",
      "1670210     2357031      334635     Consumer loans      6622.02   \n",
      "1670211     2659632      249544     Consumer loans     11520.85   \n",
      "1670212     2785582      400317         Cash loans     18821.52   \n",
      "1670213     2418762      261212         Cash loans     16431.30   \n",
      "\n",
      "         AMT_APPLICATION  AMT_CREDIT  AMT_DOWN_PAYMENT  AMT_GOODS_PRICE  \\\n",
      "1670209        267295.50   311400.00              0.00        267295.50   \n",
      "1670210         87750.00    64291.50          29250.00         87750.00   \n",
      "1670211        105237.00   102523.50          10525.50        105237.00   \n",
      "1670212        180000.00   191880.00               nan        180000.00   \n",
      "1670213        360000.00   360000.00               nan        360000.00   \n",
      "\n",
      "        WEEKDAY_APPR_PROCESS_START  HOUR_APPR_PROCESS_START  ...  \\\n",
      "1670209                  WEDNESDAY                       12  ...   \n",
      "1670210                    TUESDAY                       15  ...   \n",
      "1670211                     MONDAY                       12  ...   \n",
      "1670212                  WEDNESDAY                        9  ...   \n",
      "1670213                     SUNDAY                       10  ...   \n",
      "\n",
      "         NAME_SELLER_INDUSTRY  CNT_PAYMENT  NAME_YIELD_GROUP  \\\n",
      "1670209             Furniture        30.00        low_normal   \n",
      "1670210             Furniture        12.00            middle   \n",
      "1670211  Consumer electronics        10.00        low_normal   \n",
      "1670212                   XNA        12.00        low_normal   \n",
      "1670213                   XNA        48.00            middle   \n",
      "\n",
      "                 PRODUCT_COMBINATION  DAYS_FIRST_DRAWING DAYS_FIRST_DUE  \\\n",
      "1670209   POS industry with interest           365243.00        -508.00   \n",
      "1670210   POS industry with interest           365243.00       -1604.00   \n",
      "1670211  POS household with interest           365243.00       -1457.00   \n",
      "1670212             Cash X-Sell: low           365243.00       -1155.00   \n",
      "1670213          Cash X-Sell: middle           365243.00       -1163.00   \n",
      "\n",
      "        DAYS_LAST_DUE_1ST_VERSION  DAYS_LAST_DUE DAYS_TERMINATION  \\\n",
      "1670209                    362.00        -358.00          -351.00   \n",
      "1670210                  -1274.00       -1304.00         -1297.00   \n",
      "1670211                  -1187.00       -1187.00         -1181.00   \n",
      "1670212                   -825.00        -825.00          -817.00   \n",
      "1670213                    247.00        -443.00          -423.00   \n",
      "\n",
      "        NFLAG_INSURED_ON_APPROVAL  \n",
      "1670209                      0.00  \n",
      "1670210                      0.00  \n",
      "1670211                      0.00  \n",
      "1670212                      1.00  \n",
      "1670213                      0.00  \n",
      "\n",
      "[5 rows x 37 columns]\n",
      "(1670214, 37)\n",
      "<class 'pandas.core.frame.DataFrame'>\n",
      "RangeIndex: 1670214 entries, 0 to 1670213\n",
      "Data columns (total 37 columns):\n",
      "SK_ID_PREV                     1670214 non-null int64\n",
      "SK_ID_CURR                     1670214 non-null int64\n",
      "NAME_CONTRACT_TYPE             1670214 non-null object\n",
      "AMT_ANNUITY                    1297979 non-null float64\n",
      "AMT_APPLICATION                1670214 non-null float64\n",
      "AMT_CREDIT                     1670213 non-null float64\n",
      "AMT_DOWN_PAYMENT               774370 non-null float64\n",
      "AMT_GOODS_PRICE                1284699 non-null float64\n",
      "WEEKDAY_APPR_PROCESS_START     1670214 non-null object\n",
      "HOUR_APPR_PROCESS_START        1670214 non-null int64\n",
      "FLAG_LAST_APPL_PER_CONTRACT    1670214 non-null object\n",
      "NFLAG_LAST_APPL_IN_DAY         1670214 non-null int64\n",
      "RATE_DOWN_PAYMENT              774370 non-null float64\n",
      "RATE_INTEREST_PRIMARY          5951 non-null float64\n",
      "RATE_INTEREST_PRIVILEGED       5951 non-null float64\n",
      "NAME_CASH_LOAN_PURPOSE         1670214 non-null object\n",
      "NAME_CONTRACT_STATUS           1670214 non-null object\n",
      "DAYS_DECISION                  1670214 non-null int64\n",
      "NAME_PAYMENT_TYPE              1670214 non-null object\n",
      "CODE_REJECT_REASON             1670214 non-null object\n",
      "NAME_TYPE_SUITE                849809 non-null object\n",
      "NAME_CLIENT_TYPE               1670214 non-null object\n",
      "NAME_GOODS_CATEGORY            1670214 non-null object\n",
      "NAME_PORTFOLIO                 1670214 non-null object\n",
      "NAME_PRODUCT_TYPE              1670214 non-null object\n",
      "CHANNEL_TYPE                   1670214 non-null object\n",
      "SELLERPLACE_AREA               1670214 non-null int64\n",
      "NAME_SELLER_INDUSTRY           1670214 non-null object\n",
      "CNT_PAYMENT                    1297984 non-null float64\n",
      "NAME_YIELD_GROUP               1670214 non-null object\n",
      "PRODUCT_COMBINATION            1669868 non-null object\n",
      "DAYS_FIRST_DRAWING             997149 non-null float64\n",
      "DAYS_FIRST_DUE                 997149 non-null float64\n",
      "DAYS_LAST_DUE_1ST_VERSION      997149 non-null float64\n",
      "DAYS_LAST_DUE                  997149 non-null float64\n",
      "DAYS_TERMINATION               997149 non-null float64\n",
      "NFLAG_INSURED_ON_APPROVAL      997149 non-null float64\n",
      "dtypes: float64(15), int64(6), object(16)\n",
      "memory usage: 471.5+ MB\n",
      "None\n",
      "       SK_ID_PREV  SK_ID_CURR  AMT_ANNUITY  AMT_APPLICATION  AMT_CREDIT  \\\n",
      "count  1670214.00  1670214.00   1297979.00       1670214.00  1670213.00   \n",
      "mean   1923089.14   278357.17     15955.12        175233.86   196114.02   \n",
      "std     532597.96   102814.82     14782.14        292779.76   318574.62   \n",
      "min    1000001.00   100001.00         0.00             0.00        0.00   \n",
      "25%    1461857.25   189329.00      6321.78         18720.00    24160.50   \n",
      "50%    1923110.50   278714.50     11250.00         71046.00    80541.00   \n",
      "75%    2384279.75   367514.00     20658.42        180360.00   216418.50   \n",
      "max    2845382.00   456255.00    418058.15       6905160.00  6905160.00   \n",
      "\n",
      "       AMT_DOWN_PAYMENT  AMT_GOODS_PRICE  HOUR_APPR_PROCESS_START  \\\n",
      "count         774370.00       1284699.00               1670214.00   \n",
      "mean            6697.40        227847.28                    12.48   \n",
      "std            20921.50        315396.56                     3.33   \n",
      "min               -0.90             0.00                     0.00   \n",
      "25%                0.00         50841.00                    10.00   \n",
      "50%             1638.00        112320.00                    12.00   \n",
      "75%             7740.00        234000.00                    15.00   \n",
      "max          3060045.00       6905160.00                    23.00   \n",
      "\n",
      "       NFLAG_LAST_APPL_IN_DAY  RATE_DOWN_PAYMENT  ...  \\\n",
      "count              1670214.00          774370.00  ...   \n",
      "mean                     1.00               0.08  ...   \n",
      "std                      0.06               0.11  ...   \n",
      "min                      0.00              -0.00  ...   \n",
      "25%                      1.00               0.00  ...   \n",
      "50%                      1.00               0.05  ...   \n",
      "75%                      1.00               0.11  ...   \n",
      "max                      1.00               1.00  ...   \n",
      "\n",
      "       RATE_INTEREST_PRIVILEGED  DAYS_DECISION  SELLERPLACE_AREA  CNT_PAYMENT  \\\n",
      "count                   5951.00     1670214.00        1670214.00   1297984.00   \n",
      "mean                       0.77        -880.68            313.95        16.05   \n",
      "std                        0.10         779.10           7127.44        14.57   \n",
      "min                        0.37       -2922.00             -1.00         0.00   \n",
      "25%                        0.72       -1300.00             -1.00         6.00   \n",
      "50%                        0.84        -581.00              3.00        12.00   \n",
      "75%                        0.85        -280.00             82.00        24.00   \n",
      "max                        1.00          -1.00        4000000.00        84.00   \n",
      "\n",
      "       DAYS_FIRST_DRAWING  DAYS_FIRST_DUE  DAYS_LAST_DUE_1ST_VERSION  \\\n",
      "count           997149.00       997149.00                  997149.00   \n",
      "mean            342209.86        13826.27                   33767.77   \n",
      "std              88916.12        72444.87                  106857.03   \n",
      "min              -2922.00        -2892.00                   -2801.00   \n",
      "25%             365243.00        -1628.00                   -1242.00   \n",
      "50%             365243.00         -831.00                    -361.00   \n",
      "75%             365243.00         -411.00                     129.00   \n",
      "max             365243.00       365243.00                  365243.00   \n",
      "\n",
      "       DAYS_LAST_DUE  DAYS_TERMINATION  NFLAG_INSURED_ON_APPROVAL  \n",
      "count      997149.00         997149.00                  997149.00  \n",
      "mean        76582.40          81992.34                       0.33  \n",
      "std        149647.42         153303.52                       0.47  \n",
      "min         -2889.00          -2874.00                       0.00  \n",
      "25%         -1314.00          -1270.00                       0.00  \n",
      "50%          -537.00           -499.00                       0.00  \n",
      "75%           -74.00            -44.00                       1.00  \n",
      "max        365243.00         365243.00                       1.00  \n",
      "\n",
      "[8 rows x 21 columns]\n"
     ]
    }
   ],
   "source": [
    "print(previous_application.tail(5))\n",
    "print(previous_application.shape)\n",
    "print(previous_application.info())\n",
    "print(previous_application.describe())"
   ]
  },
  {
   "cell_type": "markdown",
   "metadata": {},
   "source": [
    "## Validating all the Column Names "
   ]
  },
  {
   "cell_type": "code",
   "execution_count": 143,
   "metadata": {},
   "outputs": [
    {
     "data": {
      "text/plain": [
       "Index(['SK_ID_PREV', 'SK_ID_CURR', 'NAME_CONTRACT_TYPE', 'AMT_ANNUITY',\n",
       "       'AMT_APPLICATION', 'AMT_CREDIT', 'AMT_DOWN_PAYMENT', 'AMT_GOODS_PRICE',\n",
       "       'WEEKDAY_APPR_PROCESS_START', 'HOUR_APPR_PROCESS_START',\n",
       "       'FLAG_LAST_APPL_PER_CONTRACT', 'NFLAG_LAST_APPL_IN_DAY',\n",
       "       'RATE_DOWN_PAYMENT', 'RATE_INTEREST_PRIMARY',\n",
       "       'RATE_INTEREST_PRIVILEGED', 'NAME_CASH_LOAN_PURPOSE',\n",
       "       'NAME_CONTRACT_STATUS', 'DAYS_DECISION', 'NAME_PAYMENT_TYPE',\n",
       "       'CODE_REJECT_REASON', 'NAME_TYPE_SUITE', 'NAME_CLIENT_TYPE',\n",
       "       'NAME_GOODS_CATEGORY', 'NAME_PORTFOLIO', 'NAME_PRODUCT_TYPE',\n",
       "       'CHANNEL_TYPE', 'SELLERPLACE_AREA', 'NAME_SELLER_INDUSTRY',\n",
       "       'CNT_PAYMENT', 'NAME_YIELD_GROUP', 'PRODUCT_COMBINATION',\n",
       "       'DAYS_FIRST_DRAWING', 'DAYS_FIRST_DUE', 'DAYS_LAST_DUE_1ST_VERSION',\n",
       "       'DAYS_LAST_DUE', 'DAYS_TERMINATION', 'NFLAG_INSURED_ON_APPROVAL'],\n",
       "      dtype='object')"
      ]
     },
     "execution_count": 143,
     "metadata": {},
     "output_type": "execute_result"
    }
   ],
   "source": [
    "previous_application.columns"
   ]
  },
  {
   "cell_type": "markdown",
   "metadata": {},
   "source": [
    "# 2. Data Cleaning"
   ]
  },
  {
   "cell_type": "markdown",
   "metadata": {},
   "source": [
    "### Finding Duplicates"
   ]
  },
  {
   "cell_type": "code",
   "execution_count": 144,
   "metadata": {},
   "outputs": [
    {
     "name": "stdout",
     "output_type": "stream",
     "text": [
      "0\n"
     ]
    }
   ],
   "source": [
    "print(previous_application.duplicated().sum())"
   ]
  },
  {
   "cell_type": "markdown",
   "metadata": {},
   "source": [
    "### Check the datatypes of all columns"
   ]
  },
  {
   "cell_type": "code",
   "execution_count": 145,
   "metadata": {},
   "outputs": [
    {
     "data": {
      "text/plain": [
       "SK_ID_PREV                       int64\n",
       "SK_ID_CURR                       int64\n",
       "NAME_CONTRACT_TYPE              object\n",
       "AMT_ANNUITY                    float64\n",
       "AMT_APPLICATION                float64\n",
       "AMT_CREDIT                     float64\n",
       "AMT_DOWN_PAYMENT               float64\n",
       "AMT_GOODS_PRICE                float64\n",
       "WEEKDAY_APPR_PROCESS_START      object\n",
       "HOUR_APPR_PROCESS_START          int64\n",
       "FLAG_LAST_APPL_PER_CONTRACT     object\n",
       "NFLAG_LAST_APPL_IN_DAY           int64\n",
       "RATE_DOWN_PAYMENT              float64\n",
       "RATE_INTEREST_PRIMARY          float64\n",
       "RATE_INTEREST_PRIVILEGED       float64\n",
       "NAME_CASH_LOAN_PURPOSE          object\n",
       "NAME_CONTRACT_STATUS            object\n",
       "DAYS_DECISION                    int64\n",
       "NAME_PAYMENT_TYPE               object\n",
       "CODE_REJECT_REASON              object\n",
       "NAME_TYPE_SUITE                 object\n",
       "NAME_CLIENT_TYPE                object\n",
       "NAME_GOODS_CATEGORY             object\n",
       "NAME_PORTFOLIO                  object\n",
       "NAME_PRODUCT_TYPE               object\n",
       "CHANNEL_TYPE                    object\n",
       "SELLERPLACE_AREA                 int64\n",
       "NAME_SELLER_INDUSTRY            object\n",
       "CNT_PAYMENT                    float64\n",
       "NAME_YIELD_GROUP                object\n",
       "PRODUCT_COMBINATION             object\n",
       "DAYS_FIRST_DRAWING             float64\n",
       "DAYS_FIRST_DUE                 float64\n",
       "DAYS_LAST_DUE_1ST_VERSION      float64\n",
       "DAYS_LAST_DUE                  float64\n",
       "DAYS_TERMINATION               float64\n",
       "NFLAG_INSURED_ON_APPROVAL      float64\n",
       "dtype: object"
      ]
     },
     "execution_count": 145,
     "metadata": {},
     "output_type": "execute_result"
    }
   ],
   "source": [
    "previous_application.dtypes"
   ]
  },
  {
   "cell_type": "markdown",
   "metadata": {},
   "source": [
    "### Missing Values Percentage"
   ]
  },
  {
   "cell_type": "code",
   "execution_count": 146,
   "metadata": {},
   "outputs": [
    {
     "name": "stdout",
     "output_type": "stream",
     "text": [
      "SK_ID_PREV                           0\n",
      "SK_ID_CURR                           0\n",
      "NAME_CONTRACT_TYPE                   0\n",
      "AMT_ANNUITY                     372235\n",
      "AMT_APPLICATION                      0\n",
      "AMT_CREDIT                           1\n",
      "AMT_DOWN_PAYMENT                895844\n",
      "AMT_GOODS_PRICE                 385515\n",
      "WEEKDAY_APPR_PROCESS_START           0\n",
      "HOUR_APPR_PROCESS_START              0\n",
      "FLAG_LAST_APPL_PER_CONTRACT          0\n",
      "NFLAG_LAST_APPL_IN_DAY               0\n",
      "RATE_DOWN_PAYMENT               895844\n",
      "RATE_INTEREST_PRIMARY          1664263\n",
      "RATE_INTEREST_PRIVILEGED       1664263\n",
      "NAME_CASH_LOAN_PURPOSE               0\n",
      "NAME_CONTRACT_STATUS                 0\n",
      "DAYS_DECISION                        0\n",
      "NAME_PAYMENT_TYPE                    0\n",
      "CODE_REJECT_REASON                   0\n",
      "NAME_TYPE_SUITE                 820405\n",
      "NAME_CLIENT_TYPE                     0\n",
      "NAME_GOODS_CATEGORY                  0\n",
      "NAME_PORTFOLIO                       0\n",
      "NAME_PRODUCT_TYPE                    0\n",
      "CHANNEL_TYPE                         0\n",
      "SELLERPLACE_AREA                     0\n",
      "NAME_SELLER_INDUSTRY                 0\n",
      "CNT_PAYMENT                     372230\n",
      "NAME_YIELD_GROUP                     0\n",
      "PRODUCT_COMBINATION                346\n",
      "DAYS_FIRST_DRAWING              673065\n",
      "DAYS_FIRST_DUE                  673065\n",
      "DAYS_LAST_DUE_1ST_VERSION       673065\n",
      "DAYS_LAST_DUE                   673065\n",
      "DAYS_TERMINATION                673065\n",
      "NFLAG_INSURED_ON_APPROVAL       673065\n",
      "dtype: int64\n"
     ]
    }
   ],
   "source": [
    "# summarising number of missing values in each column\n",
    "print(previous_application.isnull().sum())"
   ]
  },
  {
   "cell_type": "code",
   "execution_count": 147,
   "metadata": {},
   "outputs": [
    {
     "name": "stdout",
     "output_type": "stream",
     "text": [
      "SK_ID_PREV                     0.00\n",
      "SK_ID_CURR                     0.00\n",
      "NAME_CONTRACT_TYPE             0.00\n",
      "AMT_ANNUITY                   22.29\n",
      "AMT_APPLICATION                0.00\n",
      "AMT_CREDIT                     0.00\n",
      "AMT_DOWN_PAYMENT              53.64\n",
      "AMT_GOODS_PRICE               23.08\n",
      "WEEKDAY_APPR_PROCESS_START     0.00\n",
      "HOUR_APPR_PROCESS_START        0.00\n",
      "FLAG_LAST_APPL_PER_CONTRACT    0.00\n",
      "NFLAG_LAST_APPL_IN_DAY         0.00\n",
      "RATE_DOWN_PAYMENT             53.64\n",
      "RATE_INTEREST_PRIMARY         99.64\n",
      "RATE_INTEREST_PRIVILEGED      99.64\n",
      "NAME_CASH_LOAN_PURPOSE         0.00\n",
      "NAME_CONTRACT_STATUS           0.00\n",
      "DAYS_DECISION                  0.00\n",
      "NAME_PAYMENT_TYPE              0.00\n",
      "CODE_REJECT_REASON             0.00\n",
      "NAME_TYPE_SUITE               49.12\n",
      "NAME_CLIENT_TYPE               0.00\n",
      "NAME_GOODS_CATEGORY            0.00\n",
      "NAME_PORTFOLIO                 0.00\n",
      "NAME_PRODUCT_TYPE              0.00\n",
      "CHANNEL_TYPE                   0.00\n",
      "SELLERPLACE_AREA               0.00\n",
      "NAME_SELLER_INDUSTRY           0.00\n",
      "CNT_PAYMENT                   22.29\n",
      "NAME_YIELD_GROUP               0.00\n",
      "PRODUCT_COMBINATION            0.02\n",
      "DAYS_FIRST_DRAWING            40.30\n",
      "DAYS_FIRST_DUE                40.30\n",
      "DAYS_LAST_DUE_1ST_VERSION     40.30\n",
      "DAYS_LAST_DUE                 40.30\n",
      "DAYS_TERMINATION              40.30\n",
      "NFLAG_INSURED_ON_APPROVAL     40.30\n",
      "dtype: float64\n"
     ]
    }
   ],
   "source": [
    "# Percentage of null values in all columns\n",
    "null_percentage = round(previous_application.isnull().sum() / len(previous_application.index) * 100, 2)\n",
    "print(null_percentage)"
   ]
  },
  {
   "cell_type": "markdown",
   "metadata": {},
   "source": [
    "### You can see that there are  columns having 99% missing values, some have 53%,40%etc.The colum with 53% of null values is taken into consideration as it has some amount of useful data which can be used for analysis."
   ]
  },
  {
   "cell_type": "markdown",
   "metadata": {},
   "source": [
    "### Remove all the columns which have 90 % or more than 90 % null values"
   ]
  },
  {
   "cell_type": "code",
   "execution_count": 148,
   "metadata": {},
   "outputs": [
    {
     "name": "stdout",
     "output_type": "stream",
     "text": [
      "SK_ID_PREV                     0.00\n",
      "SK_ID_CURR                     0.00\n",
      "NAME_CONTRACT_TYPE             0.00\n",
      "AMT_ANNUITY                   22.29\n",
      "AMT_APPLICATION                0.00\n",
      "AMT_CREDIT                     0.00\n",
      "AMT_DOWN_PAYMENT              53.64\n",
      "AMT_GOODS_PRICE               23.08\n",
      "WEEKDAY_APPR_PROCESS_START     0.00\n",
      "HOUR_APPR_PROCESS_START        0.00\n",
      "FLAG_LAST_APPL_PER_CONTRACT    0.00\n",
      "NFLAG_LAST_APPL_IN_DAY         0.00\n",
      "RATE_DOWN_PAYMENT             53.64\n",
      "NAME_CASH_LOAN_PURPOSE         0.00\n",
      "NAME_CONTRACT_STATUS           0.00\n",
      "DAYS_DECISION                  0.00\n",
      "NAME_PAYMENT_TYPE              0.00\n",
      "CODE_REJECT_REASON             0.00\n",
      "NAME_TYPE_SUITE               49.12\n",
      "NAME_CLIENT_TYPE               0.00\n",
      "NAME_GOODS_CATEGORY            0.00\n",
      "NAME_PORTFOLIO                 0.00\n",
      "NAME_PRODUCT_TYPE              0.00\n",
      "CHANNEL_TYPE                   0.00\n",
      "SELLERPLACE_AREA               0.00\n",
      "NAME_SELLER_INDUSTRY           0.00\n",
      "CNT_PAYMENT                   22.29\n",
      "NAME_YIELD_GROUP               0.00\n",
      "PRODUCT_COMBINATION            0.02\n",
      "DAYS_FIRST_DRAWING            40.30\n",
      "DAYS_FIRST_DUE                40.30\n",
      "DAYS_LAST_DUE_1ST_VERSION     40.30\n",
      "DAYS_LAST_DUE                 40.30\n",
      "DAYS_TERMINATION              40.30\n",
      "NFLAG_INSURED_ON_APPROVAL     40.30\n",
      "dtype: float64\n"
     ]
    },
    {
     "data": {
      "text/plain": [
       "(1670214, 35)"
      ]
     },
     "execution_count": 148,
     "metadata": {},
     "output_type": "execute_result"
    }
   ],
   "source": [
    "prev_app_loan = pd.DataFrame(previous_application.loc[:, (null_percentage < 90.00)])\n",
    "print(round(prev_app_loan.isnull().sum() / len(prev_app_loan.index) * 100, 2))\n",
    "prev_app_loan.shape"
   ]
  },
  {
   "cell_type": "markdown",
   "metadata": {},
   "source": [
    "### Check the missing values in each Column against the Total and Percentage"
   ]
  },
  {
   "cell_type": "code",
   "execution_count": 149,
   "metadata": {},
   "outputs": [],
   "source": [
    "def missing(data):\n",
    "    miss = data.isnull().sum().sort_values(ascending = False)\n",
    "    perc = 100*(data.isnull().sum()/data.isnull().count()).sort_values(ascending=False)\n",
    "    return pd.concat([miss, perc], axis = 1, keys = ['Total', 'Percent'])"
   ]
  },
  {
   "cell_type": "code",
   "execution_count": 150,
   "metadata": {},
   "outputs": [
    {
     "data": {
      "text/html": [
       "<div>\n",
       "<style scoped>\n",
       "    .dataframe tbody tr th:only-of-type {\n",
       "        vertical-align: middle;\n",
       "    }\n",
       "\n",
       "    .dataframe tbody tr th {\n",
       "        vertical-align: top;\n",
       "    }\n",
       "\n",
       "    .dataframe thead th {\n",
       "        text-align: right;\n",
       "    }\n",
       "</style>\n",
       "<table border=\"1\" class=\"dataframe\">\n",
       "  <thead>\n",
       "    <tr style=\"text-align: right;\">\n",
       "      <th></th>\n",
       "      <th>Total</th>\n",
       "      <th>Percent</th>\n",
       "    </tr>\n",
       "  </thead>\n",
       "  <tbody>\n",
       "    <tr>\n",
       "      <th>RATE_DOWN_PAYMENT</th>\n",
       "      <td>895844</td>\n",
       "      <td>53.64</td>\n",
       "    </tr>\n",
       "    <tr>\n",
       "      <th>AMT_DOWN_PAYMENT</th>\n",
       "      <td>895844</td>\n",
       "      <td>53.64</td>\n",
       "    </tr>\n",
       "    <tr>\n",
       "      <th>NAME_TYPE_SUITE</th>\n",
       "      <td>820405</td>\n",
       "      <td>49.12</td>\n",
       "    </tr>\n",
       "    <tr>\n",
       "      <th>NFLAG_INSURED_ON_APPROVAL</th>\n",
       "      <td>673065</td>\n",
       "      <td>40.30</td>\n",
       "    </tr>\n",
       "    <tr>\n",
       "      <th>DAYS_LAST_DUE</th>\n",
       "      <td>673065</td>\n",
       "      <td>40.30</td>\n",
       "    </tr>\n",
       "    <tr>\n",
       "      <th>DAYS_LAST_DUE_1ST_VERSION</th>\n",
       "      <td>673065</td>\n",
       "      <td>40.30</td>\n",
       "    </tr>\n",
       "    <tr>\n",
       "      <th>DAYS_FIRST_DUE</th>\n",
       "      <td>673065</td>\n",
       "      <td>40.30</td>\n",
       "    </tr>\n",
       "    <tr>\n",
       "      <th>DAYS_FIRST_DRAWING</th>\n",
       "      <td>673065</td>\n",
       "      <td>40.30</td>\n",
       "    </tr>\n",
       "    <tr>\n",
       "      <th>DAYS_TERMINATION</th>\n",
       "      <td>673065</td>\n",
       "      <td>40.30</td>\n",
       "    </tr>\n",
       "    <tr>\n",
       "      <th>AMT_GOODS_PRICE</th>\n",
       "      <td>385515</td>\n",
       "      <td>23.08</td>\n",
       "    </tr>\n",
       "    <tr>\n",
       "      <th>AMT_ANNUITY</th>\n",
       "      <td>372235</td>\n",
       "      <td>22.29</td>\n",
       "    </tr>\n",
       "    <tr>\n",
       "      <th>CNT_PAYMENT</th>\n",
       "      <td>372230</td>\n",
       "      <td>22.29</td>\n",
       "    </tr>\n",
       "    <tr>\n",
       "      <th>PRODUCT_COMBINATION</th>\n",
       "      <td>346</td>\n",
       "      <td>0.02</td>\n",
       "    </tr>\n",
       "    <tr>\n",
       "      <th>AMT_CREDIT</th>\n",
       "      <td>1</td>\n",
       "      <td>0.00</td>\n",
       "    </tr>\n",
       "    <tr>\n",
       "      <th>AMT_APPLICATION</th>\n",
       "      <td>0</td>\n",
       "      <td>0.00</td>\n",
       "    </tr>\n",
       "    <tr>\n",
       "      <th>NAME_CONTRACT_TYPE</th>\n",
       "      <td>0</td>\n",
       "      <td>0.00</td>\n",
       "    </tr>\n",
       "    <tr>\n",
       "      <th>WEEKDAY_APPR_PROCESS_START</th>\n",
       "      <td>0</td>\n",
       "      <td>0.00</td>\n",
       "    </tr>\n",
       "    <tr>\n",
       "      <th>SK_ID_CURR</th>\n",
       "      <td>0</td>\n",
       "      <td>0.00</td>\n",
       "    </tr>\n",
       "    <tr>\n",
       "      <th>HOUR_APPR_PROCESS_START</th>\n",
       "      <td>0</td>\n",
       "      <td>0.00</td>\n",
       "    </tr>\n",
       "    <tr>\n",
       "      <th>FLAG_LAST_APPL_PER_CONTRACT</th>\n",
       "      <td>0</td>\n",
       "      <td>0.00</td>\n",
       "    </tr>\n",
       "    <tr>\n",
       "      <th>NFLAG_LAST_APPL_IN_DAY</th>\n",
       "      <td>0</td>\n",
       "      <td>0.00</td>\n",
       "    </tr>\n",
       "    <tr>\n",
       "      <th>CODE_REJECT_REASON</th>\n",
       "      <td>0</td>\n",
       "      <td>0.00</td>\n",
       "    </tr>\n",
       "    <tr>\n",
       "      <th>NAME_CASH_LOAN_PURPOSE</th>\n",
       "      <td>0</td>\n",
       "      <td>0.00</td>\n",
       "    </tr>\n",
       "    <tr>\n",
       "      <th>NAME_CONTRACT_STATUS</th>\n",
       "      <td>0</td>\n",
       "      <td>0.00</td>\n",
       "    </tr>\n",
       "    <tr>\n",
       "      <th>DAYS_DECISION</th>\n",
       "      <td>0</td>\n",
       "      <td>0.00</td>\n",
       "    </tr>\n",
       "    <tr>\n",
       "      <th>NAME_PAYMENT_TYPE</th>\n",
       "      <td>0</td>\n",
       "      <td>0.00</td>\n",
       "    </tr>\n",
       "    <tr>\n",
       "      <th>NAME_CLIENT_TYPE</th>\n",
       "      <td>0</td>\n",
       "      <td>0.00</td>\n",
       "    </tr>\n",
       "    <tr>\n",
       "      <th>NAME_GOODS_CATEGORY</th>\n",
       "      <td>0</td>\n",
       "      <td>0.00</td>\n",
       "    </tr>\n",
       "    <tr>\n",
       "      <th>NAME_PORTFOLIO</th>\n",
       "      <td>0</td>\n",
       "      <td>0.00</td>\n",
       "    </tr>\n",
       "    <tr>\n",
       "      <th>NAME_PRODUCT_TYPE</th>\n",
       "      <td>0</td>\n",
       "      <td>0.00</td>\n",
       "    </tr>\n",
       "    <tr>\n",
       "      <th>CHANNEL_TYPE</th>\n",
       "      <td>0</td>\n",
       "      <td>0.00</td>\n",
       "    </tr>\n",
       "    <tr>\n",
       "      <th>SELLERPLACE_AREA</th>\n",
       "      <td>0</td>\n",
       "      <td>0.00</td>\n",
       "    </tr>\n",
       "    <tr>\n",
       "      <th>NAME_SELLER_INDUSTRY</th>\n",
       "      <td>0</td>\n",
       "      <td>0.00</td>\n",
       "    </tr>\n",
       "    <tr>\n",
       "      <th>NAME_YIELD_GROUP</th>\n",
       "      <td>0</td>\n",
       "      <td>0.00</td>\n",
       "    </tr>\n",
       "    <tr>\n",
       "      <th>SK_ID_PREV</th>\n",
       "      <td>0</td>\n",
       "      <td>0.00</td>\n",
       "    </tr>\n",
       "  </tbody>\n",
       "</table>\n",
       "</div>"
      ],
      "text/plain": [
       "                              Total  Percent\n",
       "RATE_DOWN_PAYMENT            895844    53.64\n",
       "AMT_DOWN_PAYMENT             895844    53.64\n",
       "NAME_TYPE_SUITE              820405    49.12\n",
       "NFLAG_INSURED_ON_APPROVAL    673065    40.30\n",
       "DAYS_LAST_DUE                673065    40.30\n",
       "DAYS_LAST_DUE_1ST_VERSION    673065    40.30\n",
       "DAYS_FIRST_DUE               673065    40.30\n",
       "DAYS_FIRST_DRAWING           673065    40.30\n",
       "DAYS_TERMINATION             673065    40.30\n",
       "AMT_GOODS_PRICE              385515    23.08\n",
       "AMT_ANNUITY                  372235    22.29\n",
       "CNT_PAYMENT                  372230    22.29\n",
       "PRODUCT_COMBINATION             346     0.02\n",
       "AMT_CREDIT                        1     0.00\n",
       "AMT_APPLICATION                   0     0.00\n",
       "NAME_CONTRACT_TYPE                0     0.00\n",
       "WEEKDAY_APPR_PROCESS_START        0     0.00\n",
       "SK_ID_CURR                        0     0.00\n",
       "HOUR_APPR_PROCESS_START           0     0.00\n",
       "FLAG_LAST_APPL_PER_CONTRACT       0     0.00\n",
       "NFLAG_LAST_APPL_IN_DAY            0     0.00\n",
       "CODE_REJECT_REASON                0     0.00\n",
       "NAME_CASH_LOAN_PURPOSE            0     0.00\n",
       "NAME_CONTRACT_STATUS              0     0.00\n",
       "DAYS_DECISION                     0     0.00\n",
       "NAME_PAYMENT_TYPE                 0     0.00\n",
       "NAME_CLIENT_TYPE                  0     0.00\n",
       "NAME_GOODS_CATEGORY               0     0.00\n",
       "NAME_PORTFOLIO                    0     0.00\n",
       "NAME_PRODUCT_TYPE                 0     0.00\n",
       "CHANNEL_TYPE                      0     0.00\n",
       "SELLERPLACE_AREA                  0     0.00\n",
       "NAME_SELLER_INDUSTRY              0     0.00\n",
       "NAME_YIELD_GROUP                  0     0.00\n",
       "SK_ID_PREV                        0     0.00"
      ]
     },
     "execution_count": 150,
     "metadata": {},
     "output_type": "execute_result"
    }
   ],
   "source": [
    "missing(prev_app_loan)"
   ]
  },
  {
   "cell_type": "markdown",
   "metadata": {},
   "source": [
    "### Imputing Missing Values"
   ]
  },
  {
   "cell_type": "markdown",
   "metadata": {},
   "source": [
    "#### Generic Function to calculate the Mean and Median,given the columns of the dataframe"
   ]
  },
  {
   "cell_type": "code",
   "execution_count": 151,
   "metadata": {},
   "outputs": [],
   "source": [
    "def describe_prev_app_loan(columns):\n",
    "    \"\"\" \n",
    "    Function outputs the mean and median values. \n",
    "  \n",
    "  \n",
    "    Parameters: \n",
    "    columns: List of columns in the dataframe for which the mean and median has to be calculated. \n",
    "  \n",
    "    Returns: \n",
    "    mean,median : Returns the calculated mean and median values on the columns specified.\n",
    "  \n",
    "    \"\"\"\n",
    "    for column in columns:\n",
    "        print('{column} mean value={mean}, median value={median} , value count={count}'.format(column=column, mean=round(prev_app_loan[column].mean(),2), median=prev_app_loan[column].median(), count=prev_app_loan[column].value_counts()))"
   ]
  },
  {
   "cell_type": "code",
   "execution_count": 152,
   "metadata": {},
   "outputs": [
    {
     "name": "stdout",
     "output_type": "stream",
     "text": [
      "AMT_GOODS_PRICE mean value=227847.28, median value=112320.0 , value count=45000.00      47831\n",
      "225000.00     43549\n",
      "135000.00     40666\n",
      "450000.00     38926\n",
      "90000.00      29367\n",
      "180000.00     24736\n",
      "270000.00     20567\n",
      "675000.00     20235\n",
      "67500.00      16857\n",
      "900000.00     15572\n",
      "112500.00     14373\n",
      "315000.00     11920\n",
      "229500.00     10756\n",
      "337500.00     10537\n",
      "360000.00     10286\n",
      "157500.00     10220\n",
      "1350000.00     8434\n",
      "202500.00      7937\n",
      "247500.00      7161\n",
      "454500.00      7039\n",
      "1129500.00     6928\n",
      "0.00           6869\n",
      "540000.00      6842\n",
      "1125000.00     6390\n",
      "405000.00      5872\n",
      "765000.00      5124\n",
      "585000.00      4770\n",
      "292500.00      3787\n",
      "495000.00      3749\n",
      "810000.00      3487\n",
      "              ...  \n",
      "138388.73         1\n",
      "139113.90         1\n",
      "355140.00         1\n",
      "113386.68         1\n",
      "88903.98          1\n",
      "45118.35          1\n",
      "355729.50         1\n",
      "79112.25          1\n",
      "355873.50         1\n",
      "127304.77         1\n",
      "355855.50         1\n",
      "61114.14          1\n",
      "37941.71          1\n",
      "355783.50         1\n",
      "138285.90         1\n",
      "114006.20         1\n",
      "79113.38          1\n",
      "355725.00         1\n",
      "61159.14          1\n",
      "355707.00         1\n",
      "139145.85         1\n",
      "355698.00         1\n",
      "166949.82         1\n",
      "355675.50         1\n",
      "335232.00         1\n",
      "355626.00         1\n",
      "247404.46         1\n",
      "355594.50         1\n",
      "355590.00         1\n",
      "442350.00         1\n",
      "Name: AMT_GOODS_PRICE, Length: 93885, dtype: int64\n",
      "AMT_ANNUITY mean value=15955.12, median value=11250.0 , value count=2250.00     31865\n",
      "11250.00    13974\n",
      "6750.00     13442\n",
      "9000.00     12496\n",
      "22500.00    11903\n",
      "4500.00     10597\n",
      "13500.00     7171\n",
      "3375.00      4806\n",
      "7875.00      4674\n",
      "38250.00     4129\n",
      "5625.00      3993\n",
      "45000.00     3604\n",
      "10125.00     2558\n",
      "16875.00     2436\n",
      "18000.00     1861\n",
      "29250.00     1662\n",
      "0.00         1637\n",
      "12375.00     1634\n",
      "20250.00     1621\n",
      "33750.00     1412\n",
      "15750.00     1370\n",
      "27000.00     1075\n",
      "14625.00      864\n",
      "10492.02      841\n",
      "36000.00      816\n",
      "27449.82      731\n",
      "21709.12      728\n",
      "5246.01       665\n",
      "7869.02       653\n",
      "19151.10      639\n",
      "            ...  \n",
      "7856.41         1\n",
      "2297.43         1\n",
      "27496.31        1\n",
      "14802.17        1\n",
      "10128.74        1\n",
      "12364.42        1\n",
      "27528.57        1\n",
      "36668.75        1\n",
      "6084.68         1\n",
      "36801.63        1\n",
      "12348.45        1\n",
      "12351.83        1\n",
      "18615.74        1\n",
      "19864.67        1\n",
      "22025.83        1\n",
      "9826.51         1\n",
      "12909.24        1\n",
      "18762.39        1\n",
      "10141.11        1\n",
      "14815.67        1\n",
      "7867.66         1\n",
      "36617.00        1\n",
      "27501.93        1\n",
      "1162.71         1\n",
      "2373.75         1\n",
      "30073.86        1\n",
      "41845.36        1\n",
      "36622.62        1\n",
      "41864.76        1\n",
      "63715.90        1\n",
      "Name: AMT_ANNUITY, Length: 357959, dtype: int64\n",
      "RATE_DOWN_PAYMENT mean value=0.08, median value=0.051605084707529336 , value count=0.00    369854\n",
      "0.11     36341\n",
      "0.22      6482\n",
      "0.33      1081\n",
      "0.54       746\n",
      "0.44       449\n",
      "0.10       304\n",
      "0.10       258\n",
      "0.10       252\n",
      "0.10       243\n",
      "0.10       212\n",
      "0.10       192\n",
      "0.11       192\n",
      "0.07       170\n",
      "0.27       163\n",
      "0.11       161\n",
      "0.10       161\n",
      "0.10       147\n",
      "0.10       144\n",
      "0.10       134\n",
      "0.11       129\n",
      "0.13       127\n",
      "0.09       122\n",
      "0.10       122\n",
      "0.10       121\n",
      "0.10       120\n",
      "0.10       119\n",
      "0.10       116\n",
      "0.10       116\n",
      "0.10       116\n",
      "         ...  \n",
      "0.11         1\n",
      "0.13         1\n",
      "0.10         1\n",
      "0.17         1\n",
      "0.19         1\n",
      "0.10         1\n",
      "0.10         1\n",
      "0.20         1\n",
      "0.09         1\n",
      "0.09         1\n",
      "0.10         1\n",
      "0.21         1\n",
      "0.21         1\n",
      "0.11         1\n",
      "0.10         1\n",
      "0.05         1\n",
      "0.36         1\n",
      "0.20         1\n",
      "0.21         1\n",
      "0.21         1\n",
      "0.08         1\n",
      "0.21         1\n",
      "0.08         1\n",
      "0.10         1\n",
      "0.42         1\n",
      "0.10         1\n",
      "0.10         1\n",
      "0.45         1\n",
      "0.20         1\n",
      "0.10         1\n",
      "Name: RATE_DOWN_PAYMENT, Length: 207033, dtype: int64\n",
      "CNT_PAYMENT mean value=16.05, median value=12.0 , value count=12.00    323049\n",
      "6.00     190461\n",
      "0.00     144985\n",
      "10.00    141851\n",
      "24.00    137764\n",
      "18.00     77430\n",
      "36.00     72583\n",
      "60.00     53600\n",
      "48.00     47316\n",
      "8.00      30349\n",
      "4.00      26924\n",
      "30.00     16924\n",
      "14.00      8253\n",
      "42.00      7136\n",
      "16.00      5710\n",
      "5.00       3957\n",
      "54.00      2104\n",
      "20.00      1805\n",
      "7.00       1434\n",
      "9.00       1236\n",
      "3.00       1100\n",
      "15.00       904\n",
      "11.00       669\n",
      "72.00       139\n",
      "13.00        51\n",
      "17.00        48\n",
      "84.00        45\n",
      "22.00        37\n",
      "23.00        27\n",
      "26.00        13\n",
      "35.00        11\n",
      "66.00        10\n",
      "29.00         8\n",
      "28.00         8\n",
      "32.00         6\n",
      "19.00         6\n",
      "34.00         4\n",
      "59.00         4\n",
      "45.00         3\n",
      "41.00         3\n",
      "47.00         3\n",
      "21.00         3\n",
      "44.00         2\n",
      "39.00         2\n",
      "38.00         2\n",
      "46.00         2\n",
      "40.00         1\n",
      "33.00         1\n",
      "53.00         1\n",
      "Name: CNT_PAYMENT, dtype: int64\n",
      "AMT_CREDIT mean value=196114.02, median value=80541.0 , value count=0.00          336768\n",
      "45000.00       35051\n",
      "225000.00      21094\n",
      "450000.00      19954\n",
      "135000.00      18720\n",
      "180000.00      17085\n",
      "90000.00       13781\n",
      "270000.00       9842\n",
      "900000.00       7432\n",
      "67500.00        7245\n",
      "95940.00        6449\n",
      "143910.00       6386\n",
      "157500.00       6237\n",
      "112500.00       5938\n",
      "675000.00       5348\n",
      "239850.00       5229\n",
      "254700.00       4863\n",
      "765000.00       4779\n",
      "71955.00        4530\n",
      "47970.00        4508\n",
      "512370.00       3802\n",
      "491580.00       3800\n",
      "360000.00       3781\n",
      "1350000.00      3763\n",
      "202500.00       3761\n",
      "337500.00       3672\n",
      "46485.00        3577\n",
      "152820.00       3464\n",
      "191880.00       3316\n",
      "533160.00       3313\n",
      "               ...  \n",
      "220167.00          1\n",
      "365665.50          1\n",
      "1682046.00         1\n",
      "365683.50          1\n",
      "329184.00          1\n",
      "365967.00          1\n",
      "220027.50          1\n",
      "216143.28          1\n",
      "365940.00          1\n",
      "35619.71           1\n",
      "365895.00          1\n",
      "220054.50          1\n",
      "220063.50          1\n",
      "220068.00          1\n",
      "220072.50          1\n",
      "220077.00          1\n",
      "33396.30           1\n",
      "365845.50          1\n",
      "365841.00          1\n",
      "365827.50          1\n",
      "1682446.50         1\n",
      "220108.50          1\n",
      "220113.00          1\n",
      "32346.45           1\n",
      "365742.00          1\n",
      "76031.60           1\n",
      "334656.00          1\n",
      "9279.00            1\n",
      "365733.00          1\n",
      "408915.00          1\n",
      "Name: AMT_CREDIT, Length: 86803, dtype: int64\n"
     ]
    }
   ],
   "source": [
    "describe_prev_app_loan(['AMT_GOODS_PRICE', 'AMT_ANNUITY', 'RATE_DOWN_PAYMENT', 'CNT_PAYMENT','AMT_CREDIT'])"
   ]
  },
  {
   "cell_type": "markdown",
   "metadata": {},
   "source": [
    "## Deep Look into Numerial Columns"
   ]
  },
  {
   "cell_type": "code",
   "execution_count": 153,
   "metadata": {},
   "outputs": [
    {
     "data": {
      "text/html": [
       "<div>\n",
       "<style scoped>\n",
       "    .dataframe tbody tr th:only-of-type {\n",
       "        vertical-align: middle;\n",
       "    }\n",
       "\n",
       "    .dataframe tbody tr th {\n",
       "        vertical-align: top;\n",
       "    }\n",
       "\n",
       "    .dataframe thead th {\n",
       "        text-align: right;\n",
       "    }\n",
       "</style>\n",
       "<table border=\"1\" class=\"dataframe\">\n",
       "  <thead>\n",
       "    <tr style=\"text-align: right;\">\n",
       "      <th></th>\n",
       "      <th>SK_ID_PREV</th>\n",
       "      <th>SK_ID_CURR</th>\n",
       "      <th>AMT_ANNUITY</th>\n",
       "      <th>AMT_APPLICATION</th>\n",
       "      <th>AMT_CREDIT</th>\n",
       "      <th>AMT_DOWN_PAYMENT</th>\n",
       "      <th>AMT_GOODS_PRICE</th>\n",
       "      <th>HOUR_APPR_PROCESS_START</th>\n",
       "      <th>NFLAG_LAST_APPL_IN_DAY</th>\n",
       "      <th>RATE_DOWN_PAYMENT</th>\n",
       "      <th>DAYS_DECISION</th>\n",
       "      <th>SELLERPLACE_AREA</th>\n",
       "      <th>CNT_PAYMENT</th>\n",
       "      <th>DAYS_FIRST_DRAWING</th>\n",
       "      <th>DAYS_FIRST_DUE</th>\n",
       "      <th>DAYS_LAST_DUE_1ST_VERSION</th>\n",
       "      <th>DAYS_LAST_DUE</th>\n",
       "      <th>DAYS_TERMINATION</th>\n",
       "      <th>NFLAG_INSURED_ON_APPROVAL</th>\n",
       "    </tr>\n",
       "  </thead>\n",
       "  <tbody>\n",
       "    <tr>\n",
       "      <th>0</th>\n",
       "      <td>2030495</td>\n",
       "      <td>271877</td>\n",
       "      <td>1730.43</td>\n",
       "      <td>17145.00</td>\n",
       "      <td>17145.00</td>\n",
       "      <td>0.00</td>\n",
       "      <td>17145.00</td>\n",
       "      <td>15</td>\n",
       "      <td>1</td>\n",
       "      <td>0.00</td>\n",
       "      <td>-73</td>\n",
       "      <td>35</td>\n",
       "      <td>12.00</td>\n",
       "      <td>365243.00</td>\n",
       "      <td>-42.00</td>\n",
       "      <td>300.00</td>\n",
       "      <td>-42.00</td>\n",
       "      <td>-37.00</td>\n",
       "      <td>0.00</td>\n",
       "    </tr>\n",
       "    <tr>\n",
       "      <th>1</th>\n",
       "      <td>2802425</td>\n",
       "      <td>108129</td>\n",
       "      <td>25188.62</td>\n",
       "      <td>607500.00</td>\n",
       "      <td>679671.00</td>\n",
       "      <td>nan</td>\n",
       "      <td>607500.00</td>\n",
       "      <td>11</td>\n",
       "      <td>1</td>\n",
       "      <td>nan</td>\n",
       "      <td>-164</td>\n",
       "      <td>-1</td>\n",
       "      <td>36.00</td>\n",
       "      <td>365243.00</td>\n",
       "      <td>-134.00</td>\n",
       "      <td>916.00</td>\n",
       "      <td>365243.00</td>\n",
       "      <td>365243.00</td>\n",
       "      <td>1.00</td>\n",
       "    </tr>\n",
       "    <tr>\n",
       "      <th>2</th>\n",
       "      <td>2523466</td>\n",
       "      <td>122040</td>\n",
       "      <td>15060.74</td>\n",
       "      <td>112500.00</td>\n",
       "      <td>136444.50</td>\n",
       "      <td>nan</td>\n",
       "      <td>112500.00</td>\n",
       "      <td>11</td>\n",
       "      <td>1</td>\n",
       "      <td>nan</td>\n",
       "      <td>-301</td>\n",
       "      <td>-1</td>\n",
       "      <td>12.00</td>\n",
       "      <td>365243.00</td>\n",
       "      <td>-271.00</td>\n",
       "      <td>59.00</td>\n",
       "      <td>365243.00</td>\n",
       "      <td>365243.00</td>\n",
       "      <td>1.00</td>\n",
       "    </tr>\n",
       "    <tr>\n",
       "      <th>3</th>\n",
       "      <td>2819243</td>\n",
       "      <td>176158</td>\n",
       "      <td>47041.33</td>\n",
       "      <td>450000.00</td>\n",
       "      <td>470790.00</td>\n",
       "      <td>nan</td>\n",
       "      <td>450000.00</td>\n",
       "      <td>7</td>\n",
       "      <td>1</td>\n",
       "      <td>nan</td>\n",
       "      <td>-512</td>\n",
       "      <td>-1</td>\n",
       "      <td>12.00</td>\n",
       "      <td>365243.00</td>\n",
       "      <td>-482.00</td>\n",
       "      <td>-152.00</td>\n",
       "      <td>-182.00</td>\n",
       "      <td>-177.00</td>\n",
       "      <td>1.00</td>\n",
       "    </tr>\n",
       "    <tr>\n",
       "      <th>4</th>\n",
       "      <td>1784265</td>\n",
       "      <td>202054</td>\n",
       "      <td>31924.40</td>\n",
       "      <td>337500.00</td>\n",
       "      <td>404055.00</td>\n",
       "      <td>nan</td>\n",
       "      <td>337500.00</td>\n",
       "      <td>9</td>\n",
       "      <td>1</td>\n",
       "      <td>nan</td>\n",
       "      <td>-781</td>\n",
       "      <td>-1</td>\n",
       "      <td>24.00</td>\n",
       "      <td>nan</td>\n",
       "      <td>nan</td>\n",
       "      <td>nan</td>\n",
       "      <td>nan</td>\n",
       "      <td>nan</td>\n",
       "      <td>nan</td>\n",
       "    </tr>\n",
       "  </tbody>\n",
       "</table>\n",
       "</div>"
      ],
      "text/plain": [
       "   SK_ID_PREV  SK_ID_CURR  AMT_ANNUITY  AMT_APPLICATION  AMT_CREDIT  \\\n",
       "0     2030495      271877      1730.43         17145.00    17145.00   \n",
       "1     2802425      108129     25188.62        607500.00   679671.00   \n",
       "2     2523466      122040     15060.74        112500.00   136444.50   \n",
       "3     2819243      176158     47041.33        450000.00   470790.00   \n",
       "4     1784265      202054     31924.40        337500.00   404055.00   \n",
       "\n",
       "   AMT_DOWN_PAYMENT  AMT_GOODS_PRICE  HOUR_APPR_PROCESS_START  \\\n",
       "0              0.00         17145.00                       15   \n",
       "1               nan        607500.00                       11   \n",
       "2               nan        112500.00                       11   \n",
       "3               nan        450000.00                        7   \n",
       "4               nan        337500.00                        9   \n",
       "\n",
       "   NFLAG_LAST_APPL_IN_DAY  RATE_DOWN_PAYMENT  DAYS_DECISION  SELLERPLACE_AREA  \\\n",
       "0                       1               0.00            -73                35   \n",
       "1                       1                nan           -164                -1   \n",
       "2                       1                nan           -301                -1   \n",
       "3                       1                nan           -512                -1   \n",
       "4                       1                nan           -781                -1   \n",
       "\n",
       "   CNT_PAYMENT  DAYS_FIRST_DRAWING  DAYS_FIRST_DUE  DAYS_LAST_DUE_1ST_VERSION  \\\n",
       "0        12.00           365243.00          -42.00                     300.00   \n",
       "1        36.00           365243.00         -134.00                     916.00   \n",
       "2        12.00           365243.00         -271.00                      59.00   \n",
       "3        12.00           365243.00         -482.00                    -152.00   \n",
       "4        24.00                 nan             nan                        nan   \n",
       "\n",
       "   DAYS_LAST_DUE  DAYS_TERMINATION  NFLAG_INSURED_ON_APPROVAL  \n",
       "0         -42.00            -37.00                       0.00  \n",
       "1      365243.00         365243.00                       1.00  \n",
       "2      365243.00         365243.00                       1.00  \n",
       "3        -182.00           -177.00                       1.00  \n",
       "4            nan               nan                        nan  "
      ]
     },
     "execution_count": 153,
     "metadata": {},
     "output_type": "execute_result"
    }
   ],
   "source": [
    "prev_app_loan_num = prev_app_loan.select_dtypes(include=np.number)\n",
    "prev_app_loan_num.head(5)"
   ]
  },
  {
   "cell_type": "markdown",
   "metadata": {},
   "source": [
    "## Deep Look into Categorical Data"
   ]
  },
  {
   "cell_type": "code",
   "execution_count": 154,
   "metadata": {},
   "outputs": [
    {
     "data": {
      "text/html": [
       "<div>\n",
       "<style scoped>\n",
       "    .dataframe tbody tr th:only-of-type {\n",
       "        vertical-align: middle;\n",
       "    }\n",
       "\n",
       "    .dataframe tbody tr th {\n",
       "        vertical-align: top;\n",
       "    }\n",
       "\n",
       "    .dataframe thead th {\n",
       "        text-align: right;\n",
       "    }\n",
       "</style>\n",
       "<table border=\"1\" class=\"dataframe\">\n",
       "  <thead>\n",
       "    <tr style=\"text-align: right;\">\n",
       "      <th></th>\n",
       "      <th>NAME_CONTRACT_TYPE</th>\n",
       "      <th>WEEKDAY_APPR_PROCESS_START</th>\n",
       "      <th>FLAG_LAST_APPL_PER_CONTRACT</th>\n",
       "      <th>NAME_CASH_LOAN_PURPOSE</th>\n",
       "      <th>NAME_CONTRACT_STATUS</th>\n",
       "      <th>NAME_PAYMENT_TYPE</th>\n",
       "      <th>CODE_REJECT_REASON</th>\n",
       "      <th>NAME_TYPE_SUITE</th>\n",
       "      <th>NAME_CLIENT_TYPE</th>\n",
       "      <th>NAME_GOODS_CATEGORY</th>\n",
       "      <th>NAME_PORTFOLIO</th>\n",
       "      <th>NAME_PRODUCT_TYPE</th>\n",
       "      <th>CHANNEL_TYPE</th>\n",
       "      <th>NAME_SELLER_INDUSTRY</th>\n",
       "      <th>NAME_YIELD_GROUP</th>\n",
       "      <th>PRODUCT_COMBINATION</th>\n",
       "    </tr>\n",
       "  </thead>\n",
       "  <tbody>\n",
       "    <tr>\n",
       "      <th>0</th>\n",
       "      <td>Consumer loans</td>\n",
       "      <td>SATURDAY</td>\n",
       "      <td>Y</td>\n",
       "      <td>XAP</td>\n",
       "      <td>Approved</td>\n",
       "      <td>Cash through the bank</td>\n",
       "      <td>XAP</td>\n",
       "      <td>NaN</td>\n",
       "      <td>Repeater</td>\n",
       "      <td>Mobile</td>\n",
       "      <td>POS</td>\n",
       "      <td>XNA</td>\n",
       "      <td>Country-wide</td>\n",
       "      <td>Connectivity</td>\n",
       "      <td>middle</td>\n",
       "      <td>POS mobile with interest</td>\n",
       "    </tr>\n",
       "    <tr>\n",
       "      <th>1</th>\n",
       "      <td>Cash loans</td>\n",
       "      <td>THURSDAY</td>\n",
       "      <td>Y</td>\n",
       "      <td>XNA</td>\n",
       "      <td>Approved</td>\n",
       "      <td>XNA</td>\n",
       "      <td>XAP</td>\n",
       "      <td>Unaccompanied</td>\n",
       "      <td>Repeater</td>\n",
       "      <td>XNA</td>\n",
       "      <td>Cash</td>\n",
       "      <td>x-sell</td>\n",
       "      <td>Contact center</td>\n",
       "      <td>XNA</td>\n",
       "      <td>low_action</td>\n",
       "      <td>Cash X-Sell: low</td>\n",
       "    </tr>\n",
       "    <tr>\n",
       "      <th>2</th>\n",
       "      <td>Cash loans</td>\n",
       "      <td>TUESDAY</td>\n",
       "      <td>Y</td>\n",
       "      <td>XNA</td>\n",
       "      <td>Approved</td>\n",
       "      <td>Cash through the bank</td>\n",
       "      <td>XAP</td>\n",
       "      <td>Spouse, partner</td>\n",
       "      <td>Repeater</td>\n",
       "      <td>XNA</td>\n",
       "      <td>Cash</td>\n",
       "      <td>x-sell</td>\n",
       "      <td>Credit and cash offices</td>\n",
       "      <td>XNA</td>\n",
       "      <td>high</td>\n",
       "      <td>Cash X-Sell: high</td>\n",
       "    </tr>\n",
       "    <tr>\n",
       "      <th>3</th>\n",
       "      <td>Cash loans</td>\n",
       "      <td>MONDAY</td>\n",
       "      <td>Y</td>\n",
       "      <td>XNA</td>\n",
       "      <td>Approved</td>\n",
       "      <td>Cash through the bank</td>\n",
       "      <td>XAP</td>\n",
       "      <td>NaN</td>\n",
       "      <td>Repeater</td>\n",
       "      <td>XNA</td>\n",
       "      <td>Cash</td>\n",
       "      <td>x-sell</td>\n",
       "      <td>Credit and cash offices</td>\n",
       "      <td>XNA</td>\n",
       "      <td>middle</td>\n",
       "      <td>Cash X-Sell: middle</td>\n",
       "    </tr>\n",
       "    <tr>\n",
       "      <th>4</th>\n",
       "      <td>Cash loans</td>\n",
       "      <td>THURSDAY</td>\n",
       "      <td>Y</td>\n",
       "      <td>Repairs</td>\n",
       "      <td>Refused</td>\n",
       "      <td>Cash through the bank</td>\n",
       "      <td>HC</td>\n",
       "      <td>NaN</td>\n",
       "      <td>Repeater</td>\n",
       "      <td>XNA</td>\n",
       "      <td>Cash</td>\n",
       "      <td>walk-in</td>\n",
       "      <td>Credit and cash offices</td>\n",
       "      <td>XNA</td>\n",
       "      <td>high</td>\n",
       "      <td>Cash Street: high</td>\n",
       "    </tr>\n",
       "  </tbody>\n",
       "</table>\n",
       "</div>"
      ],
      "text/plain": [
       "  NAME_CONTRACT_TYPE WEEKDAY_APPR_PROCESS_START FLAG_LAST_APPL_PER_CONTRACT  \\\n",
       "0     Consumer loans                   SATURDAY                           Y   \n",
       "1         Cash loans                   THURSDAY                           Y   \n",
       "2         Cash loans                    TUESDAY                           Y   \n",
       "3         Cash loans                     MONDAY                           Y   \n",
       "4         Cash loans                   THURSDAY                           Y   \n",
       "\n",
       "  NAME_CASH_LOAN_PURPOSE NAME_CONTRACT_STATUS      NAME_PAYMENT_TYPE  \\\n",
       "0                    XAP             Approved  Cash through the bank   \n",
       "1                    XNA             Approved                    XNA   \n",
       "2                    XNA             Approved  Cash through the bank   \n",
       "3                    XNA             Approved  Cash through the bank   \n",
       "4                Repairs              Refused  Cash through the bank   \n",
       "\n",
       "  CODE_REJECT_REASON  NAME_TYPE_SUITE NAME_CLIENT_TYPE NAME_GOODS_CATEGORY  \\\n",
       "0                XAP              NaN         Repeater              Mobile   \n",
       "1                XAP    Unaccompanied         Repeater                 XNA   \n",
       "2                XAP  Spouse, partner         Repeater                 XNA   \n",
       "3                XAP              NaN         Repeater                 XNA   \n",
       "4                 HC              NaN         Repeater                 XNA   \n",
       "\n",
       "  NAME_PORTFOLIO NAME_PRODUCT_TYPE             CHANNEL_TYPE  \\\n",
       "0            POS               XNA             Country-wide   \n",
       "1           Cash            x-sell           Contact center   \n",
       "2           Cash            x-sell  Credit and cash offices   \n",
       "3           Cash            x-sell  Credit and cash offices   \n",
       "4           Cash           walk-in  Credit and cash offices   \n",
       "\n",
       "  NAME_SELLER_INDUSTRY NAME_YIELD_GROUP       PRODUCT_COMBINATION  \n",
       "0         Connectivity           middle  POS mobile with interest  \n",
       "1                  XNA       low_action          Cash X-Sell: low  \n",
       "2                  XNA             high         Cash X-Sell: high  \n",
       "3                  XNA           middle       Cash X-Sell: middle  \n",
       "4                  XNA             high         Cash Street: high  "
      ]
     },
     "execution_count": 154,
     "metadata": {},
     "output_type": "execute_result"
    }
   ],
   "source": [
    "prev_app_loan_cat = prev_app_loan.select_dtypes(include='object')\n",
    "prev_app_loan_cat.head(5)"
   ]
  },
  {
   "cell_type": "markdown",
   "metadata": {},
   "source": [
    "### Checking for Column Anamolies"
   ]
  },
  {
   "cell_type": "markdown",
   "metadata": {},
   "source": [
    "#### when observed DAYS_DECISION  have negative values and has to be treated as there are chances of these columns resulting anamoly."
   ]
  },
  {
   "cell_type": "markdown",
   "metadata": {},
   "source": [
    "### DAYS_DECISION"
   ]
  },
  {
   "cell_type": "code",
   "execution_count": 155,
   "metadata": {},
   "outputs": [
    {
     "data": {
      "text/plain": [
       "count   1670214.00\n",
       "mean       -880.68\n",
       "std         779.10\n",
       "min       -2922.00\n",
       "25%       -1300.00\n",
       "50%        -581.00\n",
       "75%        -280.00\n",
       "max          -1.00\n",
       "Name: DAYS_DECISION, dtype: float64"
      ]
     },
     "execution_count": 155,
     "metadata": {},
     "output_type": "execute_result"
    }
   ],
   "source": [
    "(prev_app_loan['DAYS_DECISION']).describe()"
   ]
  },
  {
   "cell_type": "code",
   "execution_count": 156,
   "metadata": {},
   "outputs": [
    {
     "data": {
      "text/plain": [
       "count   1670214.00\n",
       "mean          2.41\n",
       "std           2.13\n",
       "min           0.00\n",
       "25%           0.77\n",
       "50%           1.59\n",
       "75%           3.56\n",
       "max           8.01\n",
       "Name: DAYS_DECISION, dtype: float64"
      ]
     },
     "execution_count": 156,
     "metadata": {},
     "output_type": "execute_result"
    }
   ],
   "source": [
    "(prev_app_loan['DAYS_DECISION'] / -365).describe()"
   ]
  },
  {
   "cell_type": "markdown",
   "metadata": {},
   "source": [
    " ### So the maximum time for decision on previous application was made within 8 days."
   ]
  },
  {
   "cell_type": "markdown",
   "metadata": {},
   "source": [
    "### Having Standardized way in displaying the decimal columns "
   ]
  },
  {
   "cell_type": "markdown",
   "metadata": {},
   "source": [
    "#### For all decimal valued column lets round off the decimals  values to 2 making columns look uniformly"
   ]
  },
  {
   "cell_type": "code",
   "execution_count": 157,
   "metadata": {},
   "outputs": [
    {
     "data": {
      "text/html": [
       "<div>\n",
       "<style scoped>\n",
       "    .dataframe tbody tr th:only-of-type {\n",
       "        vertical-align: middle;\n",
       "    }\n",
       "\n",
       "    .dataframe tbody tr th {\n",
       "        vertical-align: top;\n",
       "    }\n",
       "\n",
       "    .dataframe thead th {\n",
       "        text-align: right;\n",
       "    }\n",
       "</style>\n",
       "<table border=\"1\" class=\"dataframe\">\n",
       "  <thead>\n",
       "    <tr style=\"text-align: right;\">\n",
       "      <th></th>\n",
       "      <th>SK_ID_PREV</th>\n",
       "      <th>SK_ID_CURR</th>\n",
       "      <th>AMT_ANNUITY</th>\n",
       "      <th>AMT_APPLICATION</th>\n",
       "      <th>AMT_CREDIT</th>\n",
       "      <th>AMT_DOWN_PAYMENT</th>\n",
       "      <th>AMT_GOODS_PRICE</th>\n",
       "      <th>HOUR_APPR_PROCESS_START</th>\n",
       "      <th>NFLAG_LAST_APPL_IN_DAY</th>\n",
       "      <th>RATE_DOWN_PAYMENT</th>\n",
       "      <th>DAYS_DECISION</th>\n",
       "      <th>SELLERPLACE_AREA</th>\n",
       "      <th>CNT_PAYMENT</th>\n",
       "      <th>DAYS_FIRST_DRAWING</th>\n",
       "      <th>DAYS_FIRST_DUE</th>\n",
       "      <th>DAYS_LAST_DUE_1ST_VERSION</th>\n",
       "      <th>DAYS_LAST_DUE</th>\n",
       "      <th>DAYS_TERMINATION</th>\n",
       "      <th>NFLAG_INSURED_ON_APPROVAL</th>\n",
       "    </tr>\n",
       "  </thead>\n",
       "  <tbody>\n",
       "    <tr>\n",
       "      <th>count</th>\n",
       "      <td>1670214.00</td>\n",
       "      <td>1670214.00</td>\n",
       "      <td>1297979.00</td>\n",
       "      <td>1670214.00</td>\n",
       "      <td>1670213.00</td>\n",
       "      <td>774370.00</td>\n",
       "      <td>1284699.00</td>\n",
       "      <td>1670214.00</td>\n",
       "      <td>1670214.00</td>\n",
       "      <td>774370.00</td>\n",
       "      <td>1670214.00</td>\n",
       "      <td>1670214.00</td>\n",
       "      <td>1297984.00</td>\n",
       "      <td>997149.00</td>\n",
       "      <td>997149.00</td>\n",
       "      <td>997149.00</td>\n",
       "      <td>997149.00</td>\n",
       "      <td>997149.00</td>\n",
       "      <td>997149.00</td>\n",
       "    </tr>\n",
       "    <tr>\n",
       "      <th>mean</th>\n",
       "      <td>1923089.14</td>\n",
       "      <td>278357.17</td>\n",
       "      <td>15955.12</td>\n",
       "      <td>175233.86</td>\n",
       "      <td>196114.02</td>\n",
       "      <td>6697.40</td>\n",
       "      <td>227847.28</td>\n",
       "      <td>12.48</td>\n",
       "      <td>1.00</td>\n",
       "      <td>0.08</td>\n",
       "      <td>-880.68</td>\n",
       "      <td>313.95</td>\n",
       "      <td>16.05</td>\n",
       "      <td>342209.86</td>\n",
       "      <td>13826.27</td>\n",
       "      <td>33767.77</td>\n",
       "      <td>76582.40</td>\n",
       "      <td>81992.34</td>\n",
       "      <td>0.33</td>\n",
       "    </tr>\n",
       "    <tr>\n",
       "      <th>std</th>\n",
       "      <td>532597.96</td>\n",
       "      <td>102814.82</td>\n",
       "      <td>14782.14</td>\n",
       "      <td>292779.76</td>\n",
       "      <td>318574.62</td>\n",
       "      <td>20921.50</td>\n",
       "      <td>315396.56</td>\n",
       "      <td>3.33</td>\n",
       "      <td>0.06</td>\n",
       "      <td>0.11</td>\n",
       "      <td>779.10</td>\n",
       "      <td>7127.44</td>\n",
       "      <td>14.57</td>\n",
       "      <td>88916.12</td>\n",
       "      <td>72444.87</td>\n",
       "      <td>106857.03</td>\n",
       "      <td>149647.42</td>\n",
       "      <td>153303.52</td>\n",
       "      <td>0.47</td>\n",
       "    </tr>\n",
       "    <tr>\n",
       "      <th>min</th>\n",
       "      <td>1000001.00</td>\n",
       "      <td>100001.00</td>\n",
       "      <td>0.00</td>\n",
       "      <td>0.00</td>\n",
       "      <td>0.00</td>\n",
       "      <td>-0.90</td>\n",
       "      <td>0.00</td>\n",
       "      <td>0.00</td>\n",
       "      <td>0.00</td>\n",
       "      <td>-0.00</td>\n",
       "      <td>-2922.00</td>\n",
       "      <td>-1.00</td>\n",
       "      <td>0.00</td>\n",
       "      <td>-2922.00</td>\n",
       "      <td>-2892.00</td>\n",
       "      <td>-2801.00</td>\n",
       "      <td>-2889.00</td>\n",
       "      <td>-2874.00</td>\n",
       "      <td>0.00</td>\n",
       "    </tr>\n",
       "    <tr>\n",
       "      <th>25%</th>\n",
       "      <td>1461857.25</td>\n",
       "      <td>189329.00</td>\n",
       "      <td>6321.78</td>\n",
       "      <td>18720.00</td>\n",
       "      <td>24160.50</td>\n",
       "      <td>0.00</td>\n",
       "      <td>50841.00</td>\n",
       "      <td>10.00</td>\n",
       "      <td>1.00</td>\n",
       "      <td>0.00</td>\n",
       "      <td>-1300.00</td>\n",
       "      <td>-1.00</td>\n",
       "      <td>6.00</td>\n",
       "      <td>365243.00</td>\n",
       "      <td>-1628.00</td>\n",
       "      <td>-1242.00</td>\n",
       "      <td>-1314.00</td>\n",
       "      <td>-1270.00</td>\n",
       "      <td>0.00</td>\n",
       "    </tr>\n",
       "    <tr>\n",
       "      <th>50%</th>\n",
       "      <td>1923110.50</td>\n",
       "      <td>278714.50</td>\n",
       "      <td>11250.00</td>\n",
       "      <td>71046.00</td>\n",
       "      <td>80541.00</td>\n",
       "      <td>1638.00</td>\n",
       "      <td>112320.00</td>\n",
       "      <td>12.00</td>\n",
       "      <td>1.00</td>\n",
       "      <td>0.05</td>\n",
       "      <td>-581.00</td>\n",
       "      <td>3.00</td>\n",
       "      <td>12.00</td>\n",
       "      <td>365243.00</td>\n",
       "      <td>-831.00</td>\n",
       "      <td>-361.00</td>\n",
       "      <td>-537.00</td>\n",
       "      <td>-499.00</td>\n",
       "      <td>0.00</td>\n",
       "    </tr>\n",
       "    <tr>\n",
       "      <th>75%</th>\n",
       "      <td>2384279.75</td>\n",
       "      <td>367514.00</td>\n",
       "      <td>20658.42</td>\n",
       "      <td>180360.00</td>\n",
       "      <td>216418.50</td>\n",
       "      <td>7740.00</td>\n",
       "      <td>234000.00</td>\n",
       "      <td>15.00</td>\n",
       "      <td>1.00</td>\n",
       "      <td>0.11</td>\n",
       "      <td>-280.00</td>\n",
       "      <td>82.00</td>\n",
       "      <td>24.00</td>\n",
       "      <td>365243.00</td>\n",
       "      <td>-411.00</td>\n",
       "      <td>129.00</td>\n",
       "      <td>-74.00</td>\n",
       "      <td>-44.00</td>\n",
       "      <td>1.00</td>\n",
       "    </tr>\n",
       "    <tr>\n",
       "      <th>max</th>\n",
       "      <td>2845382.00</td>\n",
       "      <td>456255.00</td>\n",
       "      <td>418058.15</td>\n",
       "      <td>6905160.00</td>\n",
       "      <td>6905160.00</td>\n",
       "      <td>3060045.00</td>\n",
       "      <td>6905160.00</td>\n",
       "      <td>23.00</td>\n",
       "      <td>1.00</td>\n",
       "      <td>1.00</td>\n",
       "      <td>-1.00</td>\n",
       "      <td>4000000.00</td>\n",
       "      <td>84.00</td>\n",
       "      <td>365243.00</td>\n",
       "      <td>365243.00</td>\n",
       "      <td>365243.00</td>\n",
       "      <td>365243.00</td>\n",
       "      <td>365243.00</td>\n",
       "      <td>1.00</td>\n",
       "    </tr>\n",
       "  </tbody>\n",
       "</table>\n",
       "</div>"
      ],
      "text/plain": [
       "       SK_ID_PREV  SK_ID_CURR  AMT_ANNUITY  AMT_APPLICATION  AMT_CREDIT  \\\n",
       "count  1670214.00  1670214.00   1297979.00       1670214.00  1670213.00   \n",
       "mean   1923089.14   278357.17     15955.12        175233.86   196114.02   \n",
       "std     532597.96   102814.82     14782.14        292779.76   318574.62   \n",
       "min    1000001.00   100001.00         0.00             0.00        0.00   \n",
       "25%    1461857.25   189329.00      6321.78         18720.00    24160.50   \n",
       "50%    1923110.50   278714.50     11250.00         71046.00    80541.00   \n",
       "75%    2384279.75   367514.00     20658.42        180360.00   216418.50   \n",
       "max    2845382.00   456255.00    418058.15       6905160.00  6905160.00   \n",
       "\n",
       "       AMT_DOWN_PAYMENT  AMT_GOODS_PRICE  HOUR_APPR_PROCESS_START  \\\n",
       "count         774370.00       1284699.00               1670214.00   \n",
       "mean            6697.40        227847.28                    12.48   \n",
       "std            20921.50        315396.56                     3.33   \n",
       "min               -0.90             0.00                     0.00   \n",
       "25%                0.00         50841.00                    10.00   \n",
       "50%             1638.00        112320.00                    12.00   \n",
       "75%             7740.00        234000.00                    15.00   \n",
       "max          3060045.00       6905160.00                    23.00   \n",
       "\n",
       "       NFLAG_LAST_APPL_IN_DAY  RATE_DOWN_PAYMENT  DAYS_DECISION  \\\n",
       "count              1670214.00          774370.00     1670214.00   \n",
       "mean                     1.00               0.08        -880.68   \n",
       "std                      0.06               0.11         779.10   \n",
       "min                      0.00              -0.00       -2922.00   \n",
       "25%                      1.00               0.00       -1300.00   \n",
       "50%                      1.00               0.05        -581.00   \n",
       "75%                      1.00               0.11        -280.00   \n",
       "max                      1.00               1.00          -1.00   \n",
       "\n",
       "       SELLERPLACE_AREA  CNT_PAYMENT  DAYS_FIRST_DRAWING  DAYS_FIRST_DUE  \\\n",
       "count        1670214.00   1297984.00           997149.00       997149.00   \n",
       "mean             313.95        16.05           342209.86        13826.27   \n",
       "std             7127.44        14.57            88916.12        72444.87   \n",
       "min               -1.00         0.00            -2922.00        -2892.00   \n",
       "25%               -1.00         6.00           365243.00        -1628.00   \n",
       "50%                3.00        12.00           365243.00         -831.00   \n",
       "75%               82.00        24.00           365243.00         -411.00   \n",
       "max          4000000.00        84.00           365243.00       365243.00   \n",
       "\n",
       "       DAYS_LAST_DUE_1ST_VERSION  DAYS_LAST_DUE  DAYS_TERMINATION  \\\n",
       "count                  997149.00      997149.00         997149.00   \n",
       "mean                    33767.77       76582.40          81992.34   \n",
       "std                    106857.03      149647.42         153303.52   \n",
       "min                     -2801.00       -2889.00          -2874.00   \n",
       "25%                     -1242.00       -1314.00          -1270.00   \n",
       "50%                      -361.00        -537.00           -499.00   \n",
       "75%                       129.00         -74.00            -44.00   \n",
       "max                    365243.00      365243.00         365243.00   \n",
       "\n",
       "       NFLAG_INSURED_ON_APPROVAL  \n",
       "count                  997149.00  \n",
       "mean                        0.33  \n",
       "std                         0.47  \n",
       "min                         0.00  \n",
       "25%                         0.00  \n",
       "50%                         0.00  \n",
       "75%                         1.00  \n",
       "max                         1.00  "
      ]
     },
     "execution_count": 157,
     "metadata": {},
     "output_type": "execute_result"
    }
   ],
   "source": [
    "pd.set_option('display.float_format',lambda x: '%.2f' % x)\n",
    "prev_app_loan.describe()"
   ]
  },
  {
   "cell_type": "markdown",
   "metadata": {},
   "source": [
    "## Outlier Detection\n"
   ]
  },
  {
   "cell_type": "markdown",
   "metadata": {},
   "source": [
    "#### Extreme Value Analysis is the outlier method used for outlier detection.Columns considered are:\n",
    "1. AMT_APPLICATION\n",
    "2. AMT_CREDIT\n",
    "3. AMT_ANNUITY"
   ]
  },
  {
   "cell_type": "markdown",
   "metadata": {},
   "source": [
    "####  Outlier Analysis on AMT_APPLICATION "
   ]
  },
  {
   "cell_type": "code",
   "execution_count": 158,
   "metadata": {},
   "outputs": [
    {
     "data": {
      "text/plain": [
       "(422820.0, 665280.0)"
      ]
     },
     "execution_count": 158,
     "metadata": {},
     "output_type": "execute_result"
    }
   ],
   "source": [
    "IQR = prev_app_loan.AMT_APPLICATION.quantile(0.75) - prev_app_loan.AMT_APPLICATION.quantile(0.25)\n",
    "upper_limit = prev_app_loan.AMT_APPLICATION.quantile(0.75) + (IQR * 1.5)\n",
    "upper_limit_extreme = prev_app_loan.AMT_APPLICATION.quantile(0.75) + (IQR * 3)\n",
    "upper_limit, upper_limit_extreme"
   ]
  },
  {
   "cell_type": "markdown",
   "metadata": {},
   "source": [
    "#### Now, let’s see the ratio of data points above the upper limit & extreme upper limit. ie, the outliers."
   ]
  },
  {
   "cell_type": "code",
   "execution_count": 159,
   "metadata": {},
   "outputs": [
    {
     "name": "stdout",
     "output_type": "stream",
     "text": [
      "Total borrowers: 1.0\n",
      "Borrowers that earn > 422820: 0.1245463156218305\n",
      "Borrowers that earn > 665280: 0.0722925325736702\n"
     ]
    }
   ],
   "source": [
    "total = np.float(prev_app_loan.shape[0])\n",
    "print('Total borrowers: {}'.format(prev_app_loan.AMT_APPLICATION.shape[0]/total))\n",
    "print('Borrowers that earn > 422820: {}'.format(prev_app_loan[prev_app_loan.AMT_APPLICATION>422820].shape[0]/total))\n",
    "print('Borrowers that earn > 665280: {}'.format(prev_app_loan[prev_app_loan.AMT_APPLICATION>665280.0].shape[0]/total))"
   ]
  },
  {
   "cell_type": "markdown",
   "metadata": {},
   "source": [
    "#### We can see that about 12% of the data is above the upper limit and 7% of the data  is above the extreme upper limit."
   ]
  },
  {
   "cell_type": "markdown",
   "metadata": {},
   "source": [
    "####  Outlier Analysis on AMT_CREDIT"
   ]
  },
  {
   "cell_type": "code",
   "execution_count": 160,
   "metadata": {},
   "outputs": [
    {
     "data": {
      "text/plain": [
       "(504805.5, 793192.5)"
      ]
     },
     "execution_count": 160,
     "metadata": {},
     "output_type": "execute_result"
    }
   ],
   "source": [
    "IQR = prev_app_loan.AMT_CREDIT.quantile(0.75) - prev_app_loan.AMT_CREDIT.quantile(0.25)\n",
    "upper_limit = prev_app_loan.AMT_CREDIT.quantile(0.75) + (IQR * 1.5)\n",
    "upper_limit_extreme = prev_app_loan.AMT_CREDIT.quantile(0.75) + (IQR * 3)\n",
    "upper_limit, upper_limit_extreme"
   ]
  },
  {
   "cell_type": "markdown",
   "metadata": {},
   "source": [
    "#### Now, let’s see the ratio of data points above the upper limit & extreme upper limit. ie, the outliers."
   ]
  },
  {
   "cell_type": "code",
   "execution_count": 161,
   "metadata": {},
   "outputs": [
    {
     "name": "stdout",
     "output_type": "stream",
     "text": [
      "Total borrowers: 1.0\n",
      "Credits taken > 504805.5: 0.10776403502784673\n",
      "Credits taken > 793192.5: 0.05730403409383468\n"
     ]
    }
   ],
   "source": [
    "total = np.float(prev_app_loan.shape[0])\n",
    "print('Total borrowers: {}'.format(prev_app_loan.AMT_CREDIT.shape[0]/total))\n",
    "print('Credits taken > 504805.5: {}'.format(prev_app_loan[prev_app_loan.AMT_CREDIT>504805.5].shape[0]/total))\n",
    "print('Credits taken > 793192.5: {}'.format(prev_app_loan[prev_app_loan.AMT_CREDIT>793192.5].shape[0]/total))"
   ]
  },
  {
   "cell_type": "markdown",
   "metadata": {},
   "source": [
    "#### We can see that about 11% of the data is above the upper limit and 5% of the data above the extreme upper limit."
   ]
  },
  {
   "cell_type": "markdown",
   "metadata": {},
   "source": [
    "####  Outlier Analysis on AMT_ANNUITY"
   ]
  },
  {
   "cell_type": "code",
   "execution_count": 162,
   "metadata": {},
   "outputs": [
    {
     "data": {
      "text/plain": [
       "(42163.38, 63668.34)"
      ]
     },
     "execution_count": 162,
     "metadata": {},
     "output_type": "execute_result"
    }
   ],
   "source": [
    "IQR = prev_app_loan.AMT_ANNUITY.quantile(0.75) - prev_app_loan.AMT_ANNUITY.quantile(0.25)\n",
    "upper_limit = prev_app_loan.AMT_ANNUITY.quantile(0.75) + (IQR * 1.5)\n",
    "upper_limit_extreme = prev_app_loan.AMT_ANNUITY.quantile(0.75) + (IQR * 3)\n",
    "upper_limit, upper_limit_extreme"
   ]
  },
  {
   "cell_type": "code",
   "execution_count": 163,
   "metadata": {},
   "outputs": [],
   "source": [
    "#### Now, let’s see the ratio of data points above the upper limit & extreme upper limit. ie, the outliers."
   ]
  },
  {
   "cell_type": "code",
   "execution_count": 164,
   "metadata": {},
   "outputs": [
    {
     "name": "stdout",
     "output_type": "stream",
     "text": [
      "Total borrowers: 1.0\n",
      "Loan annuity > 42163.38: 0.04955173408916462\n",
      "Loan annuity > 63668.34: 0.011240475771368219\n"
     ]
    }
   ],
   "source": [
    "total = np.float(prev_app_loan.shape[0])\n",
    "print('Total borrowers: {}'.format(prev_app_loan.AMT_ANNUITY.shape[0]/total))\n",
    "print('Loan annuity > 42163.38: {}'.format(prev_app_loan[prev_app_loan.AMT_ANNUITY>42163.38].shape[0]/total))\n",
    "print('Loan annuity > 63668.34: {}'.format(prev_app_loan[prev_app_loan.AMT_ANNUITY>63668.34].shape[0]/total))"
   ]
  },
  {
   "cell_type": "markdown",
   "metadata": {},
   "source": [
    "#### We can see that about 5% of the data is above the upper limit and 1% of the data above the extreme upper limit."
   ]
  },
  {
   "cell_type": "markdown",
   "metadata": {},
   "source": [
    "## Outlier Treatment"
   ]
  },
  {
   "cell_type": "markdown",
   "metadata": {},
   "source": [
    "#### Most trivial yet effective method of outlier treatment is done by implementing top coding, the outlier is capped at a certain maximum value and looks like many other observations"
   ]
  },
  {
   "cell_type": "markdown",
   "metadata": {},
   "source": [
    "#### Top Coding of \n",
    "1. AMT_APPLICATION\n",
    "2. AMT_CREDIT\n",
    "3. AMT_ANNUITY"
   ]
  },
  {
   "cell_type": "code",
   "execution_count": 165,
   "metadata": {},
   "outputs": [
    {
     "name": "stdout",
     "output_type": "stream",
     "text": [
      "Application Amount > 665280.34 : 120744\n",
      "Percentage of outliers: 0.0722925325736702\n"
     ]
    },
    {
     "data": {
      "text/plain": [
       "665280.0"
      ]
     },
     "execution_count": 165,
     "metadata": {},
     "output_type": "execute_result"
    }
   ],
   "source": [
    "print('Application Amount > 665280.34 : {}'.format(prev_app_loan[prev_app_loan.AMT_APPLICATION>665280].shape[0]))\n",
    "print('Percentage of outliers: {}'.format(prev_app_loan[prev_app_loan['AMT_APPLICATION']>665280].shape[0]/np.float(prev_app_loan.shape[0])))\n",
    "prev_app_loan.loc[prev_app_loan.AMT_APPLICATION>665280,'AMT_APPLICATION'] = 665280\n",
    "prev_app_loan.AMT_APPLICATION.max()"
   ]
  },
  {
   "cell_type": "markdown",
   "metadata": {},
   "source": [
    "Around 7% of data is exceeding the upper extreme limit of outliers."
   ]
  },
  {
   "cell_type": "code",
   "execution_count": 166,
   "metadata": {},
   "outputs": [
    {
     "name": "stdout",
     "output_type": "stream",
     "text": [
      "Credit Amount > 793192.5: 95710\n",
      "Percentage of outliers: 0.05730403409383468\n"
     ]
    },
    {
     "data": {
      "text/plain": [
       "793192.5"
      ]
     },
     "execution_count": 166,
     "metadata": {},
     "output_type": "execute_result"
    }
   ],
   "source": [
    "print('Credit Amount > 793192.5: {}'.format(prev_app_loan[prev_app_loan['AMT_CREDIT']>793192.5].shape[0]))\n",
    "print('Percentage of outliers: {}'.format(prev_app_loan[prev_app_loan['AMT_CREDIT']>793192.5].shape[0]/np.float(prev_app_loan.shape[0])))\n",
    "prev_app_loan.loc[prev_app_loan.AMT_CREDIT>793192.5,'AMT_CREDIT'] = 793192.5\n",
    "prev_app_loan.AMT_CREDIT.max()"
   ]
  },
  {
   "cell_type": "markdown",
   "metadata": {},
   "source": [
    "Around 5% of data is exceeding the upper extreme limit of outliers."
   ]
  },
  {
   "cell_type": "code",
   "execution_count": 167,
   "metadata": {},
   "outputs": [
    {
     "name": "stdout",
     "output_type": "stream",
     "text": [
      "Loan Annuity > 63668.34: 18774\n",
      "Percentage of outliers: 0.011240475771368219\n"
     ]
    },
    {
     "data": {
      "text/plain": [
       "63668.34"
      ]
     },
     "execution_count": 167,
     "metadata": {},
     "output_type": "execute_result"
    }
   ],
   "source": [
    "print('Loan Annuity > 63668.34: {}'.format(prev_app_loan[prev_app_loan['AMT_ANNUITY']>63668.34].shape[0]))\n",
    "print('Percentage of outliers: {}'.format(prev_app_loan[prev_app_loan['AMT_ANNUITY']>63668.34].shape[0]/np.float(prev_app_loan.shape[0])))\n",
    "prev_app_loan.loc[prev_app_loan.AMT_ANNUITY>63668.34,'AMT_ANNUITY'] = 63668.34\n",
    "prev_app_loan.AMT_ANNUITY.max()"
   ]
  },
  {
   "cell_type": "markdown",
   "metadata": {},
   "source": [
    "Around 1% of data is exceeding the upper extreme limit of outliers."
   ]
  },
  {
   "cell_type": "markdown",
   "metadata": {},
   "source": [
    "#### Since the percentage of outliers crossing the upper extreme limit are 7%, 5% and 1% respectively.Using Top Coding technique the outliers are removed and the data is effectively clean for further analysis and also  the maximum value will be displayed will be equal to the upper_limit_extreme values in their respective columns."
   ]
  },
  {
   "cell_type": "markdown",
   "metadata": {},
   "source": [
    "## Outlier Analysis"
   ]
  },
  {
   "cell_type": "code",
   "execution_count": 168,
   "metadata": {},
   "outputs": [
    {
     "data": {
      "image/png": "[encoded data removed]",
      "text/plain": [
       "<Figure size 432x288 with 1 Axes>"
      ]
     },
     "metadata": {
      "needs_background": "light"
     },
     "output_type": "display_data"
    }
   ],
   "source": [
    "sns.boxplot(y='AMT_APPLICATION', data = prev_app_loan)\n",
    "plt.title(\"Application Amount after Top Coding Outliers\")\n",
    "plt.show()"
   ]
  },
  {
   "cell_type": "markdown",
   "metadata": {},
   "source": [
    "#### No points in the dataset lies \"two far away\" from the whiskers."
   ]
  },
  {
   "cell_type": "code",
   "execution_count": 169,
   "metadata": {},
   "outputs": [
    {
     "data": {
      "image/png": "[encoded data removed]",
      "text/plain": [
       "<Figure size 432x288 with 1 Axes>"
      ]
     },
     "metadata": {
      "needs_background": "light"
     },
     "output_type": "display_data"
    }
   ],
   "source": [
    "sns.boxplot(y='AMT_CREDIT', data = prev_app_loan)\n",
    "plt.title(\"Loan Amount After Top Coding Outliers\")\n",
    "plt.show()"
   ]
  },
  {
   "cell_type": "markdown",
   "metadata": {},
   "source": [
    "#### No points in the dataset lies \"two far away\" from the whiskers."
   ]
  },
  {
   "cell_type": "code",
   "execution_count": 170,
   "metadata": {},
   "outputs": [
    {
     "data": {
      "image/png": "[encoded data removed]",
      "text/plain": [
       "<Figure size 432x288 with 1 Axes>"
      ]
     },
     "metadata": {
      "needs_background": "light"
     },
     "output_type": "display_data"
    }
   ],
   "source": [
    "sns.boxplot(y='AMT_ANNUITY', data = prev_app_loan)\n",
    "plt.title(\"Annual Loan Amount After Top Coding Outliers\")\n",
    "plt.show()"
   ]
  },
  {
   "cell_type": "markdown",
   "metadata": {},
   "source": [
    "#### No points in the dataset lies \"two far away\" from the whiskers."
   ]
  },
  {
   "cell_type": "markdown",
   "metadata": {},
   "source": [
    "## Binning Of Continuous Variables"
   ]
  },
  {
   "cell_type": "markdown",
   "metadata": {},
   "source": [
    "### Create bins for range of Loan Annuity"
   ]
  },
  {
   "cell_type": "code",
   "execution_count": 171,
   "metadata": {},
   "outputs": [],
   "source": [
    "bins = [0, 15000, 30000, 45000, 60000, 75000,90000]\n",
    "slot = ['0-15000', '15000-30000', '30000-45000', '45000-60000', '60000-75000','75000 and above']\n",
    "prev_app_loan['AMT_ANNUITY_RANGE'] = pd.cut(prev_app_loan['AMT_ANNUITY'], bins, labels=slot)"
   ]
  },
  {
   "cell_type": "markdown",
   "metadata": {},
   "source": [
    "### Create bins for range of   Application Amount"
   ]
  },
  {
   "cell_type": "code",
   "execution_count": 172,
   "metadata": {},
   "outputs": [],
   "source": [
    "bins = [0, 20000, 40000, 60000, 80000, 100000, 1200000]\n",
    "slot = ['0-20000', '20000-40000', '40000-60000', '60000-80000', '80000-100000','100000 and above']\n",
    "prev_app_loan['AMT_APPLICATION_RANGE'] = pd.cut(prev_app_loan['AMT_APPLICATION'], bins, labels=slot)"
   ]
  },
  {
   "cell_type": "markdown",
   "metadata": {},
   "source": [
    "# Analysis"
   ]
  },
  {
   "cell_type": "markdown",
   "metadata": {},
   "source": [
    "### Choose the columns to perform analysis and draw conclusion based on the values obtained after performing Analusis on these columns"
   ]
  },
  {
   "cell_type": "code",
   "execution_count": 173,
   "metadata": {},
   "outputs": [],
   "source": [
    "prev_app_loan = prev_app_loan[['SK_ID_CURR','NAME_CONTRACT_TYPE','AMT_ANNUITY','AMT_APPLICATION','AMT_CREDIT','AMT_GOODS_PRICE','FLAG_LAST_APPL_PER_CONTRACT','DAYS_LAST_DUE_1ST_VERSION','DAYS_LAST_DUE','DAYS_TERMINATION','NAME_TYPE_SUITE','NAME_CLIENT_TYPE','NAME_GOODS_CATEGORY','NAME_PORTFOLIO','NAME_PRODUCT_TYPE','NAME_SELLER_INDUSTRY','NAME_YIELD_GROUP','CHANNEL_TYPE','NAME_PAYMENT_TYPE','CODE_REJECT_REASON','NAME_CONTRACT_STATUS','AMT_DOWN_PAYMENT']]"
   ]
  },
  {
   "cell_type": "markdown",
   "metadata": {},
   "source": [
    "## Examine the distribution of NAME_CONTRACT_STATUS Column"
   ]
  },
  {
   "cell_type": "markdown",
   "metadata": {},
   "source": [
    "The target is what we are asked to predict has 4 values \n",
    "1. Approved\n",
    "2. Cancelled\n",
    "3. Refused\n",
    "4. Unused\n",
    "Let's find out the how each columns vary with NAME_CONTRACT_STATUS."
   ]
  },
  {
   "cell_type": "code",
   "execution_count": 174,
   "metadata": {},
   "outputs": [
    {
     "data": {
      "text/plain": [
       "Approved        1036781\n",
       "Canceled         316319\n",
       "Refused          290678\n",
       "Unused offer      26436\n",
       "Name: NAME_CONTRACT_STATUS, dtype: int64"
      ]
     },
     "execution_count": 174,
     "metadata": {},
     "output_type": "execute_result"
    }
   ],
   "source": [
    "prev_app_loan['NAME_CONTRACT_STATUS'].value_counts()"
   ]
  },
  {
   "cell_type": "code",
   "execution_count": 175,
   "metadata": {},
   "outputs": [
    {
     "data": {
      "image/png": "[encoded data removed]",
      "text/plain": [
       "<Figure size 576x432 with 1 Axes>"
      ]
     },
     "metadata": {
      "needs_background": "light"
     },
     "output_type": "display_data"
    }
   ],
   "source": [
    "cnts = prev_app_loan[\"NAME_CONTRACT_STATUS\"].value_counts()\n",
    "import squarify\n",
    "plt.figure(figsize=(8,6))\n",
    "squarify.plot(cnts.values,label=cnts.keys(),value=cnts.values,linewidth=2,edgecolor=\"k\",alpha=.8,color=sns.color_palette(\"Set1\"))\n",
    "plt.axis(\"off\")\n",
    "plt.title(\"Contaract status in previous applications\")\n",
    "plt.show()"
   ]
  },
  {
   "cell_type": "markdown",
   "metadata": {},
   "source": [
    "From the above graph it is clear that,\n",
    "1. There are 1036781 Approved application.\n",
    "2. There are 316319 Canceled  application.       \n",
    "3. There are 290678 Refused application.\n",
    "4. There are 26436  Unused offer."
   ]
  },
  {
   "cell_type": "markdown",
   "metadata": {},
   "source": [
    "# Univariate Analysis"
   ]
  },
  {
   "cell_type": "markdown",
   "metadata": {},
   "source": [
    "## Continuous Variables"
   ]
  },
  {
   "cell_type": "markdown",
   "metadata": {},
   "source": [
    "####  In case of continuous variables, we need to understand the central tendency and spread of the variable.These are measured using various statistical metrics visualization methods such as Boxplot,Histogram/Distribution Plot, Violin Plot etc."
   ]
  },
  {
   "cell_type": "markdown",
   "metadata": {},
   "source": [
    "## Categorical Variables"
   ]
  },
  {
   "cell_type": "markdown",
   "metadata": {},
   "source": [
    "#### For categorical variables, we’ll use frequency table to understand distribution of each category. It can be be measured using two metrics, Count and Count% against each category. Countplot or Bar chart can be used as visualization."
   ]
  },
  {
   "cell_type": "code",
   "execution_count": 176,
   "metadata": {},
   "outputs": [
    {
     "data": {
      "image/png": "[encoded data removed]",
      "text/plain": [
       "<Figure size 720x504 with 1 Axes>"
      ]
     },
     "metadata": {
      "needs_background": "light"
     },
     "output_type": "display_data"
    }
   ],
   "source": [
    "ax = pd.crosstab(prev_app_loan[\"NAME_CONTRACT_STATUS\"],prev_app_loan[\"NAME_CONTRACT_TYPE\"]).plot(kind=\"barh\",figsize=(10,7),stacked=True)\n",
    "plt.xticks(rotation =0)\n",
    "plt.ylabel(\"count\")\n",
    "plt.title(\"Count of application status by application type\")\n",
    "ax.set_facecolor(\"k\")"
   ]
  },
  {
   "cell_type": "markdown",
   "metadata": {},
   "source": [
    "1. Consumer loans Clients = 729151\n",
    "2. Approved = 626470(85.91%), Canceled = 1559(0.21%), Refused = 75185(10.31%), Unused Offer = 25937(3.55%)\n",
    "3. Cash Loans Clients = 747553\n",
    "4. Approved = 312540(41.80%), Canceled = 268591(35.92%), Refused = 165928(22.19%), Unused offer = 494(0.066%)\n",
    "5. Revolving Loans Clients = 193164\n",
    "6. Approved = 97771(50.61%), Canceled = 45854(23.73), Refused = 49534(25.64%), Unused Offer = 5(0.0025%)\n",
    "7. 35.92% Cash loans are canceled as compare to other loans. More Cash loans have been refused by the bank as compare to others.\n",
    "8. Unused offer is more or less is same in all categories of loans.\n",
    "9. Consumer loans are more approved by the banks as compared to others loans"
   ]
  },
  {
   "cell_type": "code",
   "execution_count": 177,
   "metadata": {},
   "outputs": [
    {
     "data": {
      "image/png": "[encoded data removed]",
      "text/plain": [
       "<Figure size 720x504 with 1 Axes>"
      ]
     },
     "metadata": {
      "needs_background": "light"
     },
     "output_type": "display_data"
    }
   ],
   "source": [
    "ax = pd.crosstab(prev_app_loan[\"NAME_CONTRACT_STATUS\"],prev_app_loan[\"NAME_TYPE_SUITE\"]).plot(kind=\"barh\",figsize=(10,7),stacked=True)\n",
    "plt.xticks(rotation =0)\n",
    "plt.ylabel(\"count\")\n",
    "plt.title(\"Count of application status by name type suite\")\n",
    "ax.set_facecolor(\"k\")"
   ]
  },
  {
   "cell_type": "markdown",
   "metadata": {},
   "source": [
    "From the above grph it is clear that,\n",
    "1. Unaccompanied = 508970\n",
    "2. Approved = 377800(74.22%), Canceled = 8463(1.66%), Refused = 120141(23.60%), Unused Offer = 2566(0.5%)\n",
    "3. Family = 213263\n",
    "4. Approved = 178340(83.48%), Canceled = 1200(0.56%), Refused = 32039(15.02%), Unused offer = 1684(0.78%)\n",
    "5. Children = 27565\n",
    "6. Approved = 27079(98.23%), Canceled = 81(0.29%), Refused = 22(0.079%), Unused Offer = 383(1.38%)\n",
    "Those clients having Children have high percentage of loan approval and least percent of loan refusal.<br> \n",
    "Clients are not cancelling the loan,  those having family.<br> \n",
    "Unaccompanied clients loans have been refused by the banks which is the most i.e. 23%.<br> "
   ]
  },
  {
   "cell_type": "code",
   "execution_count": 178,
   "metadata": {},
   "outputs": [
    {
     "data": {
      "image/png": "[encoded data removed]",
      "text/plain": [
       "<Figure size 720x504 with 1 Axes>"
      ]
     },
     "metadata": {
      "needs_background": "light"
     },
     "output_type": "display_data"
    }
   ],
   "source": [
    "ax = pd.crosstab(prev_app_loan[\"NAME_CONTRACT_STATUS\"],prev_app_loan[\"NAME_CLIENT_TYPE\"]).plot(kind=\"barh\",figsize=(10,7),stacked=True)\n",
    "plt.xticks(rotation =0)\n",
    "plt.ylabel(\"count\")\n",
    "plt.title(\"Count of application status by name type suite\")\n",
    "ax.set_facecolor(\"k\")"
   ]
  },
  {
   "cell_type": "markdown",
   "metadata": {},
   "source": [
    "1. Repeater = 1231261\n",
    "2. Approved = 657844(53.42%), Canceled = 292232(23.73%), Refused = 260860(21.1%), Unused Offer = 20325(1.65%)\n",
    "3. New = 301363\n",
    "4. Approved = 281259(93.32%), Canceled = 3548(1.17%), Refused = 14431(4.7%), Unused offer = 2125(0.70%)\n",
    "5. New client's loan approval percentage is much higher than Repeater client.\n",
    "6. Cancellation of loan in repeater's client is very high."
   ]
  },
  {
   "cell_type": "code",
   "execution_count": 179,
   "metadata": {},
   "outputs": [
    {
     "data": {
      "image/png": "[encoded data removed]",
      "text/plain": [
       "<Figure size 720x504 with 1 Axes>"
      ]
     },
     "metadata": {
      "needs_background": "light"
     },
     "output_type": "display_data"
    }
   ],
   "source": [
    "ax = pd.crosstab(prev_app_loan[\"NAME_CONTRACT_STATUS\"],prev_app_loan[\"CODE_REJECT_REASON\"]).plot(kind=\"barh\",figsize=(10,7),stacked=True)\n",
    "plt.xticks(rotation =0)\n",
    "plt.ylabel(\"count\")\n",
    "plt.title(\"Count of application status by reject reason\")\n",
    "ax.set_facecolor(\"k\")"
   ]
  },
  {
   "cell_type": "markdown",
   "metadata": {},
   "source": [
    "1.XNA & XNP are null values\n",
    "2. For refused,Refused HC = 175231, Limit = 55680, SCO = 37467 has these values indicating that the application was rejected on the codes HC,Limit and SCO."
   ]
  },
  {
   "cell_type": "code",
   "execution_count": 180,
   "metadata": {},
   "outputs": [
    {
     "data": {
      "image/png": "[encoded data removed]",
      "text/plain": [
       "<Figure size 720x504 with 1 Axes>"
      ]
     },
     "metadata": {
      "needs_background": "light"
     },
     "output_type": "display_data"
    }
   ],
   "source": [
    "ax = pd.crosstab(prev_app_loan[\"NAME_CONTRACT_STATUS\"],prev_app_loan[\"NAME_GOODS_CATEGORY\"]).plot(kind=\"barh\",figsize=(10,7),stacked=True)\n",
    "plt.xticks(rotation =0)\n",
    "plt.ylabel(\"count\")\n",
    "plt.title(\"Count of application status by goods category\")\n",
    "ax.set_facecolor(\"k\")"
   ]
  },
  {
   "cell_type": "markdown",
   "metadata": {},
   "source": [
    "From the above grph it is clear that,\n",
    "1. Mobile industry is highest loan obtainer.\n",
    "2. Photo/Cinema , Computers , Others , Vehicles , tourism are some of the category on which clients have applied for loan and has been approved too."
   ]
  },
  {
   "cell_type": "code",
   "execution_count": 181,
   "metadata": {},
   "outputs": [
    {
     "data": {
      "image/png": "[encoded data removed]",
      "text/plain": [
       "<Figure size 720x504 with 1 Axes>"
      ]
     },
     "metadata": {
      "needs_background": "light"
     },
     "output_type": "display_data"
    }
   ],
   "source": [
    "ax = pd.crosstab(prev_app_loan[\"NAME_CONTRACT_STATUS\"],prev_app_loan[\"NAME_SELLER_INDUSTRY\"]).plot(kind=\"barh\",figsize=(10,7),stacked=True)\n",
    "plt.xticks(rotation =0)\n",
    "plt.ylabel(\"count\")\n",
    "plt.title(\"Count of application status by reject reason\")\n",
    "ax.set_facecolor(\"k\")"
   ]
  },
  {
   "attachments": {},
   "cell_type": "markdown",
   "metadata": {},
   "source": [
    "From the above graph it is clear that,\n",
    "1. Auto technology = 4990\n",
    "2. Approved = 4515(90.48%), Cancelled = 2(0.04%), Refused =  468(9.37%), Unused Offer = 5(0.10%)\n",
    "3. Consumer electronics = 398265\n",
    "4. Approved = 345194(86.67%), Cancelled = 248(0.06%), Refused = 49510(12.43%), Unused offer = 3313(0.83%)\n",
    "5. Connectivity = 276029\n",
    "6. Approved = 216284(78.35%), Cancelled = 1650(0.59%), Refused = 35902(13%), Unused offer = 22193(8.04%)\n",
    "7. Loan approval rate is high for Auto technology as compared to others.\n",
    "8. Loan rejection rate is low for Auto technology. \n",
    "9. Unused offer percent is higher in Connectivity i.e. 8%"
   ]
  },
  {
   "cell_type": "code",
   "execution_count": 182,
   "metadata": {},
   "outputs": [
    {
     "data": {
      "image/png": "[encoded data removed]",
      "text/plain": [
       "<Figure size 720x504 with 1 Axes>"
      ]
     },
     "metadata": {
      "needs_background": "light"
     },
     "output_type": "display_data"
    }
   ],
   "source": [
    "ax = pd.crosstab(prev_app_loan[\"NAME_CONTRACT_STATUS\"],prev_app_loan[\"NAME_PAYMENT_TYPE\"]).plot(kind=\"barh\",figsize=(10,7),stacked=True)\n",
    "plt.xticks(rotation =0)\n",
    "plt.ylabel(\"count\")\n",
    "plt.title(\"Count of application status by application type\")\n",
    "ax.set_facecolor(\"k\")"
   ]
  },
  {
   "attachments": {},
   "cell_type": "markdown",
   "metadata": {},
   "source": [
    "From the above graph it is clear that,\n",
    "1. Cash through the bank = 1033552\n",
    "2. Approved = 817174(79.06%), Cancelled = 3190 (0.3%), Refused = 187307(18.12%), Unused offer = 25881(2.5%)\n",
    "3. XNA are null values\n",
    "4. Non cash from your account = 8193\n",
    "5. Approved = 6938(84.68%), Cancelled = 35(0.42%), Refused = 1187(14.48%), Unused offer = 33(0.4%)\n",
    "6. Refusal rate is higher in 'Cash through the bank' as compare to other\n",
    "7. Approval rate is higher in 'Non-cash from your account'. "
   ]
  },
  {
   "cell_type": "code",
   "execution_count": 183,
   "metadata": {},
   "outputs": [
    {
     "data": {
      "image/png": "[encoded data removed]",
      "text/plain": [
       "<Figure size 720x504 with 1 Axes>"
      ]
     },
     "metadata": {
      "needs_background": "light"
     },
     "output_type": "display_data"
    }
   ],
   "source": [
    "ax = pd.crosstab(prev_app_loan[\"NAME_CONTRACT_STATUS\"],prev_app_loan[\"NAME_PORTFOLIO\"]).plot(kind=\"barh\",figsize=(10,7),stacked=True)\n",
    "plt.xticks(rotation =0)\n",
    "plt.ylabel(\"count\")\n",
    "plt.title(\"Count of application status by application type\")\n",
    "ax.set_facecolor(\"k\")"
   ]
  },
  {
   "attachments": {},
   "cell_type": "markdown",
   "metadata": {},
   "source": [
    "From the above grph it is clear that,\n",
    "1. Cards = 144985\n",
    "2. Approved = 97771(67.43%), Cancelled = 473(0.32%), Refused = 46739(47.80%), Unused offer = 2\n",
    "3. Cash = 461563\n",
    "4. Approved = 312536(67.71%), Cancelled = 9823(2.12%), Refused = 139204(30.15%)\n",
    "5. Refused rate is higher in those clients having cards rather than  cash"
   ]
  },
  {
   "cell_type": "code",
   "execution_count": 184,
   "metadata": {},
   "outputs": [
    {
     "data": {
      "image/png": "[encoded data removed]",
      "text/plain": [
       "<Figure size 720x504 with 1 Axes>"
      ]
     },
     "metadata": {
      "needs_background": "light"
     },
     "output_type": "display_data"
    }
   ],
   "source": [
    "ax = pd.crosstab(prev_app_loan[\"NAME_CONTRACT_STATUS\"],prev_app_loan[\"NAME_YIELD_GROUP\"]).plot(kind=\"barh\",figsize=(10,7),stacked=True)\n",
    "plt.xticks(rotation =0)\n",
    "plt.ylabel(\"count\")\n",
    "plt.title(\"Count of application status by application type\")\n",
    "ax.set_facecolor(\"k\")"
   ]
  },
  {
   "cell_type": "markdown",
   "metadata": {},
   "source": [
    "From the above grph it is clear that,\n",
    "1. High = 353351\n",
    "2. Approved = 299018(84.62%), Cancelled = 998(0.28%), Refused = 53243(15.06%), Unused offer = 92\n",
    "3. Low action = 92041\n",
    "4. Approved = 70876(77%), Cancelled = 961(1.04%), Refused = 20204(21.95%), Unused offer = 0\n",
    "5. Low normal = 322095\n",
    "6. Approved = 246076(76.39%), Cancelled = 4828(1.49%), Refused = 70538(21.89%), Unused offer = 653\n",
    "7. Middle = 385532\n",
    "8. Approved = 323036(83.78%), Cancelled = 3254(0.84%), Refused = 59057(15.31%), Unused offer = 185\n",
    "9. Low action and Low normal interest rates have highest refusal rate as compared to others.\n",
    "10. Approval rate is high in High interest rate group \n",
    "11. Unused offer is very low in all  group interest rates"
   ]
  },
  {
   "cell_type": "code",
   "execution_count": 186,
   "metadata": {},
   "outputs": [
    {
     "data": {
      "image/png": "[encoded data removed]",
      "text/plain": [
       "<Figure size 720x504 with 1 Axes>"
      ]
     },
     "metadata": {
      "needs_background": "light"
     },
     "output_type": "display_data"
    }
   ],
   "source": [
    "ax = pd.crosstab(prev_app_loan[\"NAME_CONTRACT_STATUS\"],prev_app_loan[\"FLAG_LAST_APPL_PER_CONTRACT\"]).plot(kind=\"barh\",figsize=(10,7),stacked=True)\n",
    "plt.xticks(rotation =0)\n",
    "plt.ylabel(\"count\")\n",
    "plt.title(\"Count of application status by application type\")\n",
    "ax.set_facecolor(\"k\")"
   ]
  },
  {
   "attachments": {},
   "cell_type": "markdown",
   "metadata": {},
   "source": [
    "From the above grph it is clear that,\n",
    "1. Y = 1661739\n",
    "2. Approved = 1036781, Cancelled = 316317, Refused = 282205, Unused for = 26436\n",
    "3. N = 8475\n",
    "4. Approved = 0, Cancelled = 2, Refused = 8473, Unused offer = 0"
   ]
  },
  {
   "cell_type": "code",
   "execution_count": 187,
   "metadata": {},
   "outputs": [
    {
     "data": {
      "image/png": "[encoded data removed]",
      "text/plain": [
       "<Figure size 1008x360 with 1 Axes>"
      ]
     },
     "metadata": {
      "needs_background": "light"
     },
     "output_type": "display_data"
    }
   ],
   "source": [
    "plt.figure(figsize=(14,5))\n",
    "prev_app_loan.groupby(\"NAME_CONTRACT_STATUS\")[\"AMT_ANNUITY\"].sum().plot(kind=\"bar\")\n",
    "plt.xticks(rotation=0)\n",
    "plt.title(\"Total annuity amount by contract types in previous applications\")\n",
    "plt.show()"
   ]
  },
  {
   "attachments": {},
   "cell_type": "markdown",
   "metadata": {},
   "source": [
    "From the above graph it is clear that,\n",
    "1. Approved = 1.502e+10 (73.75%)\n",
    "2. Cancelled = 3.09e+8 (1.51%)\n",
    "3. Refused = 5.0e+9 (24.66%)\n",
    "4. Unused offer = 9.25e+06 (0.04%)\n",
    "<br>\n",
    "CONCLUSIONS\n",
    "High rate of approval in applications for clients who are seeking loan for amount Annuity(Client pay series of payments or lump sum payments to company and in return obtain regular disbursements beginning immediately or after some time.) <br>\n",
    "Cancellation is quite low 1.51%  as annuity provides steady income during retirement.<br>\n",
    "Unused offer is quite low 0.04%.<br>\n",
    " Refusal rate is low 24.66% as compared to amount goods price(32.96%) or amount credit(30%). <br>"
   ]
  },
  {
   "cell_type": "code",
   "execution_count": 188,
   "metadata": {},
   "outputs": [
    {
     "data": {
      "image/png": "[encoded data removed]",
      "text/plain": [
       "<Figure size 1008x360 with 1 Axes>"
      ]
     },
     "metadata": {
      "needs_background": "light"
     },
     "output_type": "display_data"
    }
   ],
   "source": [
    "plt.figure(figsize=(14,5))\n",
    "prev_app_loan.groupby(\"NAME_CONTRACT_STATUS\")[\"AMT_APPLICATION\"].sum().plot(kind=\"bar\")\n",
    "plt.xticks(rotation=0)\n",
    "plt.title(\"Application amount by contract types in previous applications\")\n",
    "plt.show()"
   ]
  },
  {
   "attachments": {},
   "cell_type": "markdown",
   "metadata": {},
   "source": [
    "From the above grph it is clear that,\n",
    "1. 1.66e+11 applications approved for the credit client asked on previous applications \n",
    "2. 5.027e+09 applications cancelled by the clients during the approval process.\n",
    "3. 7.36e+10 applications refused by the banks.\n",
    "4. 1.83e+09 applicants in unused offer. \n",
    "5. Cancellation of applications and unused offer is very low for Amount Application"
   ]
  },
  {
   "cell_type": "code",
   "execution_count": 197,
   "metadata": {},
   "outputs": [
    {
     "data": {
      "image/png": "[encoded data removed]",
      "text/plain": [
       "<Figure size 1008x360 with 1 Axes>"
      ]
     },
     "metadata": {
      "needs_background": "light"
     },
     "output_type": "display_data"
    }
   ],
   "source": [
    "plt.figure(figsize=(14,5))\n",
    "prev_app_loan.groupby(\"NAME_CONTRACT_STATUS\")[\"AMT_CREDIT\"].sum().plot(kind=\"bar\")\n",
    "plt.xticks(rotation=0)\n",
    "plt.title(\"Credit amount by contract types in previous applications\")\n",
    "plt.show()"
   ]
  },
  {
   "attachments": {},
   "cell_type": "markdown",
   "metadata": {},
   "source": [
    "From the above grph it is clear that,\n",
    "1. 1.91e+11(67.14%)  applications approved for the given credit amount\n",
    "2. 5.71e+09(2.0%)  applications cancelled by the customer during approval process\n",
    "3. 8.59e+10(30.19%) applications refused by the bank.\n",
    "4. 1.83e+09(6.43%)  applicants for unused offer.\n",
    "5. 30% applicants is refused for the credit amount and cancellation is quite low about 2%"
   ]
  },
  {
   "cell_type": "code",
   "execution_count": 198,
   "metadata": {},
   "outputs": [
    {
     "data": {
      "image/png": "[encoded data removed]",
      "text/plain": [
       "<Figure size 1008x360 with 1 Axes>"
      ]
     },
     "metadata": {
      "needs_background": "light"
     },
     "output_type": "display_data"
    }
   ],
   "source": [
    "plt.figure(figsize=(14,5))\n",
    "prev_app_loan.groupby(\"NAME_CONTRACT_STATUS\")[\"AMT_GOODS_PRICE\"].sum().plot(kind=\"bar\")\n",
    "plt.xticks(rotation=0)\n",
    "plt.title(\"Total annuity amount by contract types in previous applications\")\n",
    "plt.show()"
   ]
  },
  {
   "attachments": {},
   "cell_type": "markdown",
   "metadata": {},
   "source": [
    "From the above grph it is clear that,\n",
    "1. Approved = 1.87e+11 (63.94%)\n",
    "2. Cancelled = 7.189e+09 (2.45%)\n",
    "3. Refused = 9.64e+10 (32.96%)\n",
    "4. Unused offer = 1.844e+09 (0.6%)\n",
    "5. Here Unused offer is even more less. Refusal of applications is increased to 32% on amount goods price.\n",
    "6. Approval of applications is 63.94%"
   ]
  },
  {
   "cell_type": "code",
   "execution_count": 199,
   "metadata": {},
   "outputs": [
    {
     "data": {
      "image/png": "[encoded data removed]",
      "text/plain": [
       "<Figure size 1008x360 with 1 Axes>"
      ]
     },
     "metadata": {
      "needs_background": "light"
     },
     "output_type": "display_data"
    }
   ],
   "source": [
    "plt.figure(figsize=(14,5))\n",
    "prev_app_loan.groupby(\"NAME_CONTRACT_STATUS\")[\"DAYS_LAST_DUE\"].sum().plot(kind=\"bar\")\n",
    "plt.xticks(rotation=0)\n",
    "plt.title(\"Total annuity amount by contract types in previous applications\")\n",
    "plt.show()"
   ]
  },
  {
   "attachments": {},
   "cell_type": "markdown",
   "metadata": {},
   "source": [
    "From the above grph it is clear that,\n",
    "1. DAYS_LAST_DUE is applicable only for approved contract status.\n",
    "2. All the rejected application have no effect on the total amount annuity.\n",
    "3. Approved = 7.63e+10.\n",
    "4. Rest of the categories, Cancelled, Refused, Unused Offer are zero."
   ]
  },
  {
   "cell_type": "markdown",
   "metadata": {},
   "source": [
    "## Bivariate/Multivariate Analysis"
   ]
  },
  {
   "cell_type": "markdown",
   "metadata": {},
   "source": [
    "### Bivariate/Multivariate Analysis finds out the relationship between two/two or more variables.We can perform Bivariate/Multivariate analysis for any combination of categorical and continuous variables. The combination can be: Categorical & Categorical, Categorical & Continuous and Continuous & Continuous"
   ]
  },
  {
   "cell_type": "code",
   "execution_count": 200,
   "metadata": {},
   "outputs": [
    {
     "data": {
      "text/plain": [
       "<Figure size 1008x360 with 0 Axes>"
      ]
     },
     "metadata": {},
     "output_type": "display_data"
    },
    {
     "data": {
      "image/png": "[encoded data removed]",
      "text/plain": [
       "<Figure size 432x288 with 1 Axes>"
      ]
     },
     "metadata": {
      "needs_background": "light"
     },
     "output_type": "display_data"
    }
   ],
   "source": [
    "plt.figure(figsize=(14,5))\n",
    "prev_app_loan.groupby(\"NAME_CONTRACT_STATUS\")[[\"AMT_GOODS_PRICE\",\"AMT_ANNUITY\"]].sum().plot(kind=\"bar\")\n",
    "plt.xticks(rotation=0)\n",
    "plt.title(\"Total annuity amount by contract types in previous applications\")\n",
    "plt.show()"
   ]
  },
  {
   "cell_type": "markdown",
   "metadata": {},
   "source": [
    "From the above grph it is clear that,\n",
    "1. AMT_GOODS_PRICE approval rate is high as compared to AMT_ANNUITY \n",
    "2. Less loan approval on the AMT_ANNUITY.\n",
    "3. Similarly less refusal on AMT_ANNUITY."
   ]
  },
  {
   "cell_type": "code",
   "execution_count": 201,
   "metadata": {},
   "outputs": [
    {
     "data": {
      "text/plain": [
       "<Figure size 1008x360 with 0 Axes>"
      ]
     },
     "metadata": {},
     "output_type": "display_data"
    },
    {
     "data": {
      "image/png": "[encoded data removed]",
      "text/plain": [
       "<Figure size 432x288 with 1 Axes>"
      ]
     },
     "metadata": {
      "needs_background": "light"
     },
     "output_type": "display_data"
    }
   ],
   "source": [
    "plt.figure(figsize=(14,5))\n",
    "prev_app_loan.groupby(\"NAME_CONTRACT_STATUS\")[[\"AMT_GOODS_PRICE\",\"AMT_APPLICATION\"]].sum().plot(kind=\"bar\")\n",
    "plt.xticks(rotation=0)\n",
    "plt.title(\"application amount for the Total goods price\")\n",
    "plt.show()"
   ]
  },
  {
   "cell_type": "markdown",
   "metadata": {},
   "source": [
    "From the above grph it is clear that,\n",
    "1.Approval of loan on AMT_GOODS_PRICE is high as compared to credit ask by client on previous application\n",
    "2.Cancelation of loan is low in both the cases.\n",
    "3.More Refusal in case of loan taken on AMT_GOODS_PRICES"
   ]
  },
  {
   "cell_type": "code",
   "execution_count": 202,
   "metadata": {},
   "outputs": [
    {
     "data": {
      "text/plain": [
       "<Figure size 1008x360 with 0 Axes>"
      ]
     },
     "metadata": {},
     "output_type": "display_data"
    },
    {
     "data": {
      "image/png": "[encoded data removed]",
      "text/plain": [
       "<Figure size 432x288 with 1 Axes>"
      ]
     },
     "metadata": {
      "needs_background": "light"
     },
     "output_type": "display_data"
    }
   ],
   "source": [
    "plt.figure(figsize=(14,5))\n",
    "prev_app_loan.groupby(\"NAME_CONTRACT_STATUS\")[[\"AMT_GOODS_PRICE\",\"AMT_CREDIT\"]].sum().plot(kind=\"bar\")\n",
    "plt.xticks(rotation=0)\n",
    "plt.title(\"Loan amount for the Total goods price\")\n",
    "plt.show()"
   ]
  },
  {
   "cell_type": "markdown",
   "metadata": {},
   "source": [
    "From the above grph it is clear that,\n",
    "1. More approval of Credit amount on Previous application as compared to AMT_GOODS_PRICES.\n",
    "2. Refusal of loan is more on AMT_GOODS_PRICES\n",
    "3. Cancellation is less in both the cases."
   ]
  },
  {
   "cell_type": "code",
   "execution_count": 203,
   "metadata": {},
   "outputs": [
    {
     "data": {
      "text/plain": [
       "<Figure size 1008x360 with 0 Axes>"
      ]
     },
     "metadata": {},
     "output_type": "display_data"
    },
    {
     "data": {
      "image/png": "[encoded data removed]",
      "text/plain": [
       "<Figure size 432x288 with 1 Axes>"
      ]
     },
     "metadata": {
      "needs_background": "light"
     },
     "output_type": "display_data"
    }
   ],
   "source": [
    "plt.figure(figsize=(14,5))\n",
    "prev_app_loan.groupby(\"NAME_CONTRACT_STATUS\")[[\"AMT_GOODS_PRICE\",\"AMT_DOWN_PAYMENT\"]].sum().plot(kind=\"bar\")\n",
    "plt.xticks(rotation=0)\n",
    "plt.title(\"Loan amount for the Total goods price\")\n",
    "plt.show()"
   ]
  },
  {
   "cell_type": "markdown",
   "metadata": {},
   "source": [
    "From the above grph it is clear that,\n",
    "1. Few approval of loan on down payment on previous application. \n",
    "2. High Approval of loan taken on goods price\n",
    "3. No cancellation or refusal on the basis of loan on down payment"
   ]
  },
  {
   "cell_type": "code",
   "execution_count": 204,
   "metadata": {},
   "outputs": [
    {
     "data": {
      "image/png": "[encoded data removed]",
      "text/plain": [
       "<Figure size 864x432 with 2 Axes>"
      ]
     },
     "metadata": {
      "needs_background": "light"
     },
     "output_type": "display_data"
    }
   ],
   "source": [
    "cols = ['SK_ID_CURR','NAME_CONTRACT_TYPE','AMT_ANNUITY','AMT_APPLICATION','AMT_CREDIT','AMT_GOODS_PRICE','FLAG_LAST_APPL_PER_CONTRACT', 'DAYS_LAST_DUE_1ST_VERSION','DAYS_LAST_DUE','DAYS_TERMINATION','NAME_TYPE_SUITE','NAME_CLIENT_TYPE','NAME_GOODS_CATEGORY',\t'NAME_PORTFOLIO','NAME_PRODUCT_TYPE','NAME_SELLER_INDUSTRY','NAME_YIELD_GROUP','CHANNEL_TYPE','NAME_PAYMENT_TYPE',  'CODE_REJECT_REASON','NAME_CONTRACT_STATUS']\n",
    "plt.figure(figsize=(12,6))\n",
    "sns.heatmap(previous_application[cols].describe()[1:].transpose(),\n",
    "            annot=True,linewidth=2,linecolor=\"k\",cmap=sns.color_palette(\"inferno\"))\n",
    "plt.show()"
   ]
  },
  {
   "cell_type": "markdown",
   "metadata": {},
   "source": [
    "It s observed that AMT_APPLICATION,AMT_CREDIT,AMT_GOODS_PRICE are highly correlated compared to other columns.\n",
    "Indicating these columns are interlinked."
   ]
  },
  {
   "cell_type": "markdown",
   "metadata": {},
   "source": [
    "##  4. Recommendations/Conclusions"
   ]
  },
  {
   "attachments": {},
   "cell_type": "markdown",
   "metadata": {},
   "source": [
    "1. The variables which help to conclude on the loan defaulters are:\n",
    "2. NAME CONTACT TYPE – Cash loan clients is refusal rate is 22.19% as compare to revolving loans clients which is 25.64%.\n",
    "3. NAME TYPE SUITE – Those have family, their refusal rate of loan is 15.02% which is lower than unaccompanied ones i.e. 23.60%\n",
    "4. NAME PORTFOLIO – Refusal rate is higher for those applied for cards i.e. 47.30% as compare to Cash which is 30.15%."
   ]
  }
 ],
 "metadata": {
  "kernelspec": {
   "display_name": "Python 3",
   "language": "python",
   "name": "python3"
  },
  "language_info": {
   "codemirror_mode": {
    "name": "ipython",
    "version": 3
   },
   "file_extension": ".py",
   "mimetype": "text/x-python",
   "name": "python",
   "nbconvert_exporter": "python",
   "pygments_lexer": "ipython3",
   "version": "3.7.1"
  }
 },
 "nbformat": 4,
 "nbformat_minor": 2
}
